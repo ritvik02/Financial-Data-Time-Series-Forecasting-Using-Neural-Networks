{
 "cells": [
  {
   "cell_type": "markdown",
   "metadata": {
    "id": "5OohuJLwOFP-"
   },
   "source": [
    "# Data Loading"
   ]
  },
  {
   "cell_type": "code",
   "execution_count": null,
   "metadata": {
    "id": "M5NaQzWWMQSr"
   },
   "outputs": [],
   "source": [
    "import numpy as np\n",
    "import pandas as pd\n",
    "\n",
    "data = pd.read_csv(\"train_new.csv\")\n",
    "\n",
    "# data set link https://www.kaggle.com/c/cudlfinance/data?select=train_new.csv"
   ]
  },
  {
   "cell_type": "code",
   "execution_count": null,
   "metadata": {
    "colab": {
     "base_uri": "https://localhost:8080/"
    },
    "id": "ncgu5bA2MdPf",
    "outputId": "f6a247a7-90da-4d20-a6d5-75225ceaa50f"
   },
   "outputs": [
    {
     "data": {
      "text/html": [
       "<div>\n",
       "<style scoped>\n",
       "    .dataframe tbody tr th:only-of-type {\n",
       "        vertical-align: middle;\n",
       "    }\n",
       "\n",
       "    .dataframe tbody tr th {\n",
       "        vertical-align: top;\n",
       "    }\n",
       "\n",
       "    .dataframe thead th {\n",
       "        text-align: right;\n",
       "    }\n",
       "</style>\n",
       "<table border=\"1\" class=\"dataframe\">\n",
       "  <thead>\n",
       "    <tr style=\"text-align: right;\">\n",
       "      <th></th>\n",
       "      <th>Unnamed: 0</th>\n",
       "      <th>A</th>\n",
       "      <th>AAL</th>\n",
       "      <th>AAP</th>\n",
       "      <th>AAPL</th>\n",
       "      <th>ABBV</th>\n",
       "      <th>ABC</th>\n",
       "      <th>ABMD</th>\n",
       "      <th>ABT</th>\n",
       "      <th>ACN</th>\n",
       "      <th>ADBE</th>\n",
       "      <th>ADI</th>\n",
       "      <th>ADM</th>\n",
       "      <th>ADP</th>\n",
       "      <th>ADS</th>\n",
       "      <th>ADSK</th>\n",
       "      <th>AEE</th>\n",
       "      <th>AEP</th>\n",
       "      <th>AES</th>\n",
       "      <th>AFL</th>\n",
       "      <th>AGN</th>\n",
       "      <th>AIG</th>\n",
       "      <th>AIV</th>\n",
       "      <th>AIZ</th>\n",
       "      <th>AJG</th>\n",
       "      <th>AKAM</th>\n",
       "      <th>ALB</th>\n",
       "      <th>ALGN</th>\n",
       "      <th>ALK</th>\n",
       "      <th>ALL</th>\n",
       "      <th>ALLE</th>\n",
       "      <th>ALXN</th>\n",
       "      <th>AMAT</th>\n",
       "      <th>AMCR</th>\n",
       "      <th>AMD</th>\n",
       "      <th>AME</th>\n",
       "      <th>AMG</th>\n",
       "      <th>AMGN</th>\n",
       "      <th>AMP</th>\n",
       "      <th>AMT</th>\n",
       "      <th>...</th>\n",
       "      <th>VAR</th>\n",
       "      <th>VFC</th>\n",
       "      <th>VIAB</th>\n",
       "      <th>VLO</th>\n",
       "      <th>VMC</th>\n",
       "      <th>VNO</th>\n",
       "      <th>VRSK</th>\n",
       "      <th>VRSN</th>\n",
       "      <th>VRTX</th>\n",
       "      <th>VTR</th>\n",
       "      <th>VZ</th>\n",
       "      <th>WAB</th>\n",
       "      <th>WAT</th>\n",
       "      <th>WBA</th>\n",
       "      <th>WCG</th>\n",
       "      <th>WDC</th>\n",
       "      <th>WEC</th>\n",
       "      <th>WELL</th>\n",
       "      <th>WFC</th>\n",
       "      <th>WHR</th>\n",
       "      <th>WLTW</th>\n",
       "      <th>WM</th>\n",
       "      <th>WMB</th>\n",
       "      <th>WMT</th>\n",
       "      <th>WRK</th>\n",
       "      <th>WU</th>\n",
       "      <th>WY</th>\n",
       "      <th>WYNN</th>\n",
       "      <th>XEC</th>\n",
       "      <th>XEL</th>\n",
       "      <th>XLNX</th>\n",
       "      <th>XOM</th>\n",
       "      <th>XRAY</th>\n",
       "      <th>XRX</th>\n",
       "      <th>XYL</th>\n",
       "      <th>YUM</th>\n",
       "      <th>ZBH</th>\n",
       "      <th>ZION</th>\n",
       "      <th>ZTS</th>\n",
       "      <th>Cash</th>\n",
       "    </tr>\n",
       "  </thead>\n",
       "  <tbody>\n",
       "    <tr>\n",
       "      <th>0</th>\n",
       "      <td>01/01/2015</td>\n",
       "      <td>40.94</td>\n",
       "      <td>53.630</td>\n",
       "      <td>159.28</td>\n",
       "      <td>110.38</td>\n",
       "      <td>65.44</td>\n",
       "      <td>90.16</td>\n",
       "      <td>38.06</td>\n",
       "      <td>45.02</td>\n",
       "      <td>89.31</td>\n",
       "      <td>72.70</td>\n",
       "      <td>55.520</td>\n",
       "      <td>52.00</td>\n",
       "      <td>83.370</td>\n",
       "      <td>286.05</td>\n",
       "      <td>60.06</td>\n",
       "      <td>46.13</td>\n",
       "      <td>60.72</td>\n",
       "      <td>13.77</td>\n",
       "      <td>30.545</td>\n",
       "      <td>257.41</td>\n",
       "      <td>56.01</td>\n",
       "      <td>38.3087</td>\n",
       "      <td>68.43</td>\n",
       "      <td>47.08</td>\n",
       "      <td>62.96</td>\n",
       "      <td>60.13</td>\n",
       "      <td>55.91</td>\n",
       "      <td>59.76</td>\n",
       "      <td>70.25</td>\n",
       "      <td>55.46</td>\n",
       "      <td>185.03</td>\n",
       "      <td>24.920</td>\n",
       "      <td>NaN</td>\n",
       "      <td>NaN</td>\n",
       "      <td>52.63</td>\n",
       "      <td>212.24</td>\n",
       "      <td>159.29</td>\n",
       "      <td>132.25</td>\n",
       "      <td>98.85</td>\n",
       "      <td>...</td>\n",
       "      <td>76.6081</td>\n",
       "      <td>70.4994</td>\n",
       "      <td>75.25</td>\n",
       "      <td>49.50</td>\n",
       "      <td>65.73</td>\n",
       "      <td>86.1584</td>\n",
       "      <td>64.05</td>\n",
       "      <td>57.00</td>\n",
       "      <td>118.80</td>\n",
       "      <td>62.7924</td>\n",
       "      <td>46.78</td>\n",
       "      <td>86.89</td>\n",
       "      <td>112.72</td>\n",
       "      <td>76.20</td>\n",
       "      <td>82.06</td>\n",
       "      <td>110.70</td>\n",
       "      <td>52.74</td>\n",
       "      <td>75.67</td>\n",
       "      <td>54.82</td>\n",
       "      <td>193.74</td>\n",
       "      <td>NaN</td>\n",
       "      <td>51.32</td>\n",
       "      <td>44.94</td>\n",
       "      <td>85.88</td>\n",
       "      <td>NaN</td>\n",
       "      <td>17.91</td>\n",
       "      <td>35.89</td>\n",
       "      <td>148.76</td>\n",
       "      <td>106.00</td>\n",
       "      <td>NaN</td>\n",
       "      <td>43.290</td>\n",
       "      <td>92.45</td>\n",
       "      <td>53.27</td>\n",
       "      <td>36.5155</td>\n",
       "      <td>38.07</td>\n",
       "      <td>52.3831</td>\n",
       "      <td>113.42</td>\n",
       "      <td>28.510</td>\n",
       "      <td>43.03</td>\n",
       "      <td>0.0355</td>\n",
       "    </tr>\n",
       "    <tr>\n",
       "      <th>1</th>\n",
       "      <td>02/01/2015</td>\n",
       "      <td>40.56</td>\n",
       "      <td>53.910</td>\n",
       "      <td>158.56</td>\n",
       "      <td>109.33</td>\n",
       "      <td>65.89</td>\n",
       "      <td>90.46</td>\n",
       "      <td>37.31</td>\n",
       "      <td>44.90</td>\n",
       "      <td>88.84</td>\n",
       "      <td>72.34</td>\n",
       "      <td>55.540</td>\n",
       "      <td>52.02</td>\n",
       "      <td>83.290</td>\n",
       "      <td>285.37</td>\n",
       "      <td>59.53</td>\n",
       "      <td>45.99</td>\n",
       "      <td>61.15</td>\n",
       "      <td>13.70</td>\n",
       "      <td>30.540</td>\n",
       "      <td>259.13</td>\n",
       "      <td>56.11</td>\n",
       "      <td>39.0718</td>\n",
       "      <td>67.77</td>\n",
       "      <td>46.98</td>\n",
       "      <td>63.25</td>\n",
       "      <td>60.31</td>\n",
       "      <td>56.20</td>\n",
       "      <td>60.33</td>\n",
       "      <td>70.12</td>\n",
       "      <td>55.05</td>\n",
       "      <td>186.60</td>\n",
       "      <td>24.960</td>\n",
       "      <td>NaN</td>\n",
       "      <td>2.69</td>\n",
       "      <td>52.62</td>\n",
       "      <td>210.43</td>\n",
       "      <td>159.89</td>\n",
       "      <td>132.09</td>\n",
       "      <td>99.67</td>\n",
       "      <td>...</td>\n",
       "      <td>77.0597</td>\n",
       "      <td>69.4264</td>\n",
       "      <td>75.40</td>\n",
       "      <td>50.34</td>\n",
       "      <td>66.98</td>\n",
       "      <td>87.3735</td>\n",
       "      <td>63.97</td>\n",
       "      <td>57.19</td>\n",
       "      <td>123.07</td>\n",
       "      <td>64.2024</td>\n",
       "      <td>46.96</td>\n",
       "      <td>87.11</td>\n",
       "      <td>113.88</td>\n",
       "      <td>76.00</td>\n",
       "      <td>80.87</td>\n",
       "      <td>110.43</td>\n",
       "      <td>53.19</td>\n",
       "      <td>76.95</td>\n",
       "      <td>54.70</td>\n",
       "      <td>193.01</td>\n",
       "      <td>NaN</td>\n",
       "      <td>51.75</td>\n",
       "      <td>45.22</td>\n",
       "      <td>85.90</td>\n",
       "      <td>NaN</td>\n",
       "      <td>17.93</td>\n",
       "      <td>36.11</td>\n",
       "      <td>146.89</td>\n",
       "      <td>106.88</td>\n",
       "      <td>NaN</td>\n",
       "      <td>43.600</td>\n",
       "      <td>92.83</td>\n",
       "      <td>51.93</td>\n",
       "      <td>36.2257</td>\n",
       "      <td>38.08</td>\n",
       "      <td>52.0236</td>\n",
       "      <td>112.59</td>\n",
       "      <td>28.290</td>\n",
       "      <td>43.31</td>\n",
       "      <td>0.0152</td>\n",
       "    </tr>\n",
       "    <tr>\n",
       "      <th>2</th>\n",
       "      <td>05/01/2015</td>\n",
       "      <td>39.80</td>\n",
       "      <td>53.875</td>\n",
       "      <td>156.47</td>\n",
       "      <td>106.25</td>\n",
       "      <td>64.65</td>\n",
       "      <td>89.69</td>\n",
       "      <td>37.07</td>\n",
       "      <td>44.91</td>\n",
       "      <td>87.34</td>\n",
       "      <td>71.98</td>\n",
       "      <td>54.525</td>\n",
       "      <td>50.22</td>\n",
       "      <td>83.230</td>\n",
       "      <td>281.40</td>\n",
       "      <td>58.66</td>\n",
       "      <td>45.53</td>\n",
       "      <td>60.25</td>\n",
       "      <td>13.31</td>\n",
       "      <td>29.740</td>\n",
       "      <td>256.69</td>\n",
       "      <td>55.00</td>\n",
       "      <td>39.4121</td>\n",
       "      <td>66.25</td>\n",
       "      <td>46.70</td>\n",
       "      <td>61.94</td>\n",
       "      <td>58.31</td>\n",
       "      <td>56.99</td>\n",
       "      <td>59.47</td>\n",
       "      <td>68.73</td>\n",
       "      <td>54.94</td>\n",
       "      <td>182.17</td>\n",
       "      <td>24.160</td>\n",
       "      <td>NaN</td>\n",
       "      <td>2.66</td>\n",
       "      <td>51.04</td>\n",
       "      <td>202.80</td>\n",
       "      <td>157.99</td>\n",
       "      <td>127.85</td>\n",
       "      <td>98.23</td>\n",
       "      <td>...</td>\n",
       "      <td>75.9262</td>\n",
       "      <td>68.8428</td>\n",
       "      <td>73.30</td>\n",
       "      <td>48.27</td>\n",
       "      <td>65.13</td>\n",
       "      <td>87.5930</td>\n",
       "      <td>63.14</td>\n",
       "      <td>56.24</td>\n",
       "      <td>121.03</td>\n",
       "      <td>64.5265</td>\n",
       "      <td>46.57</td>\n",
       "      <td>85.14</td>\n",
       "      <td>113.02</td>\n",
       "      <td>74.50</td>\n",
       "      <td>79.07</td>\n",
       "      <td>108.97</td>\n",
       "      <td>52.54</td>\n",
       "      <td>77.90</td>\n",
       "      <td>53.20</td>\n",
       "      <td>189.03</td>\n",
       "      <td>NaN</td>\n",
       "      <td>51.23</td>\n",
       "      <td>43.43</td>\n",
       "      <td>85.65</td>\n",
       "      <td>NaN</td>\n",
       "      <td>17.76</td>\n",
       "      <td>36.11</td>\n",
       "      <td>144.39</td>\n",
       "      <td>100.69</td>\n",
       "      <td>NaN</td>\n",
       "      <td>42.795</td>\n",
       "      <td>90.29</td>\n",
       "      <td>51.57</td>\n",
       "      <td>35.4353</td>\n",
       "      <td>35.71</td>\n",
       "      <td>50.9666</td>\n",
       "      <td>116.79</td>\n",
       "      <td>27.230</td>\n",
       "      <td>43.05</td>\n",
       "      <td>0.0101</td>\n",
       "    </tr>\n",
       "    <tr>\n",
       "      <th>3</th>\n",
       "      <td>06/01/2015</td>\n",
       "      <td>39.18</td>\n",
       "      <td>53.040</td>\n",
       "      <td>156.36</td>\n",
       "      <td>106.26</td>\n",
       "      <td>64.33</td>\n",
       "      <td>90.18</td>\n",
       "      <td>36.13</td>\n",
       "      <td>44.40</td>\n",
       "      <td>86.71</td>\n",
       "      <td>70.53</td>\n",
       "      <td>53.250</td>\n",
       "      <td>49.23</td>\n",
       "      <td>82.535</td>\n",
       "      <td>277.82</td>\n",
       "      <td>57.50</td>\n",
       "      <td>45.00</td>\n",
       "      <td>60.58</td>\n",
       "      <td>13.01</td>\n",
       "      <td>29.475</td>\n",
       "      <td>255.17</td>\n",
       "      <td>54.22</td>\n",
       "      <td>39.7318</td>\n",
       "      <td>65.33</td>\n",
       "      <td>46.61</td>\n",
       "      <td>60.67</td>\n",
       "      <td>57.17</td>\n",
       "      <td>57.45</td>\n",
       "      <td>58.77</td>\n",
       "      <td>68.68</td>\n",
       "      <td>54.85</td>\n",
       "      <td>177.95</td>\n",
       "      <td>23.250</td>\n",
       "      <td>NaN</td>\n",
       "      <td>2.63</td>\n",
       "      <td>50.06</td>\n",
       "      <td>198.43</td>\n",
       "      <td>152.90</td>\n",
       "      <td>124.41</td>\n",
       "      <td>97.97</td>\n",
       "      <td>...</td>\n",
       "      <td>75.1470</td>\n",
       "      <td>68.4381</td>\n",
       "      <td>71.85</td>\n",
       "      <td>47.68</td>\n",
       "      <td>64.98</td>\n",
       "      <td>88.3030</td>\n",
       "      <td>62.92</td>\n",
       "      <td>55.18</td>\n",
       "      <td>117.36</td>\n",
       "      <td>65.9627</td>\n",
       "      <td>47.04</td>\n",
       "      <td>84.04</td>\n",
       "      <td>112.53</td>\n",
       "      <td>74.69</td>\n",
       "      <td>77.82</td>\n",
       "      <td>106.54</td>\n",
       "      <td>52.68</td>\n",
       "      <td>79.01</td>\n",
       "      <td>52.09</td>\n",
       "      <td>187.47</td>\n",
       "      <td>NaN</td>\n",
       "      <td>51.27</td>\n",
       "      <td>42.84</td>\n",
       "      <td>86.31</td>\n",
       "      <td>NaN</td>\n",
       "      <td>17.73</td>\n",
       "      <td>36.07</td>\n",
       "      <td>141.31</td>\n",
       "      <td>98.92</td>\n",
       "      <td>NaN</td>\n",
       "      <td>42.180</td>\n",
       "      <td>89.81</td>\n",
       "      <td>50.93</td>\n",
       "      <td>34.9611</td>\n",
       "      <td>35.50</td>\n",
       "      <td>50.3410</td>\n",
       "      <td>115.80</td>\n",
       "      <td>26.190</td>\n",
       "      <td>42.63</td>\n",
       "      <td>0.0253</td>\n",
       "    </tr>\n",
       "    <tr>\n",
       "      <th>4</th>\n",
       "      <td>07/01/2015</td>\n",
       "      <td>39.70</td>\n",
       "      <td>53.010</td>\n",
       "      <td>159.72</td>\n",
       "      <td>107.75</td>\n",
       "      <td>66.93</td>\n",
       "      <td>91.98</td>\n",
       "      <td>37.28</td>\n",
       "      <td>44.76</td>\n",
       "      <td>88.53</td>\n",
       "      <td>71.11</td>\n",
       "      <td>53.810</td>\n",
       "      <td>49.97</td>\n",
       "      <td>83.260</td>\n",
       "      <td>279.95</td>\n",
       "      <td>57.38</td>\n",
       "      <td>45.35</td>\n",
       "      <td>61.44</td>\n",
       "      <td>13.03</td>\n",
       "      <td>29.660</td>\n",
       "      <td>265.23</td>\n",
       "      <td>54.48</td>\n",
       "      <td>40.1339</td>\n",
       "      <td>65.59</td>\n",
       "      <td>47.06</td>\n",
       "      <td>60.16</td>\n",
       "      <td>56.94</td>\n",
       "      <td>59.57</td>\n",
       "      <td>59.67</td>\n",
       "      <td>69.81</td>\n",
       "      <td>55.60</td>\n",
       "      <td>187.93</td>\n",
       "      <td>23.465</td>\n",
       "      <td>NaN</td>\n",
       "      <td>2.58</td>\n",
       "      <td>50.21</td>\n",
       "      <td>203.30</td>\n",
       "      <td>158.24</td>\n",
       "      <td>126.62</td>\n",
       "      <td>99.00</td>\n",
       "      <td>...</td>\n",
       "      <td>76.9003</td>\n",
       "      <td>69.3134</td>\n",
       "      <td>71.30</td>\n",
       "      <td>47.31</td>\n",
       "      <td>66.21</td>\n",
       "      <td>90.1695</td>\n",
       "      <td>62.96</td>\n",
       "      <td>55.64</td>\n",
       "      <td>120.66</td>\n",
       "      <td>66.9436</td>\n",
       "      <td>46.19</td>\n",
       "      <td>84.86</td>\n",
       "      <td>115.93</td>\n",
       "      <td>76.60</td>\n",
       "      <td>79.29</td>\n",
       "      <td>108.14</td>\n",
       "      <td>53.33</td>\n",
       "      <td>79.74</td>\n",
       "      <td>52.40</td>\n",
       "      <td>191.88</td>\n",
       "      <td>NaN</td>\n",
       "      <td>51.31</td>\n",
       "      <td>42.61</td>\n",
       "      <td>88.60</td>\n",
       "      <td>NaN</td>\n",
       "      <td>17.56</td>\n",
       "      <td>36.18</td>\n",
       "      <td>145.46</td>\n",
       "      <td>98.08</td>\n",
       "      <td>NaN</td>\n",
       "      <td>42.195</td>\n",
       "      <td>90.72</td>\n",
       "      <td>52.25</td>\n",
       "      <td>35.4089</td>\n",
       "      <td>35.78</td>\n",
       "      <td>52.0092</td>\n",
       "      <td>118.68</td>\n",
       "      <td>26.435</td>\n",
       "      <td>43.51</td>\n",
       "      <td>0.0203</td>\n",
       "    </tr>\n",
       "  </tbody>\n",
       "</table>\n",
       "<p>5 rows × 507 columns</p>\n",
       "</div>"
      ],
      "text/plain": [
       "   Unnamed: 0     A     AAL     AAP   ...    ZBH    ZION    ZTS     Cash\n",
       "0  01/01/2015  40.94  53.630  159.28  ...  113.42  28.510  43.03  0.0355\n",
       "1  02/01/2015  40.56  53.910  158.56  ...  112.59  28.290  43.31  0.0152\n",
       "2  05/01/2015  39.80  53.875  156.47  ...  116.79  27.230  43.05  0.0101\n",
       "3  06/01/2015  39.18  53.040  156.36  ...  115.80  26.190  42.63  0.0253\n",
       "4  07/01/2015  39.70  53.010  159.72  ...  118.68  26.435  43.51  0.0203\n",
       "\n",
       "[5 rows x 507 columns]"
      ]
     },
     "execution_count": 43,
     "metadata": {},
     "output_type": "execute_result"
    }
   ],
   "source": [
    "data.head()"
   ]
  },
  {
   "cell_type": "code",
   "execution_count": null,
   "metadata": {
    "colab": {
     "base_uri": "https://localhost:8080/"
    },
    "id": "X7knR9kGNeWP",
    "outputId": "8d849565-aed4-4a54-cdfc-ad0fa561d655"
   },
   "outputs": [
    {
     "data": {
      "text/plain": [
       "Index(['Unnamed: 0', 'A ', 'AAL ', 'AAP ', 'AAPL ', 'ABBV ', 'ABC ', 'ABMD ',\n",
       "       'ABT ', 'ACN ',\n",
       "       ...\n",
       "       'XLNX ', 'XOM ', 'XRAY ', 'XRX ', 'XYL ', 'YUM ', 'ZBH ', 'ZION ',\n",
       "       'ZTS ', 'Cash'],\n",
       "      dtype='object', length=507)"
      ]
     },
     "execution_count": 44,
     "metadata": {},
     "output_type": "execute_result"
    }
   ],
   "source": [
    "data.columns"
   ]
  },
  {
   "cell_type": "code",
   "execution_count": null,
   "metadata": {
    "colab": {
     "base_uri": "https://localhost:8080/"
    },
    "id": "bKxhB03_Merv",
    "outputId": "c05bff29-9830-4bb2-a7e9-54de686cb42a"
   },
   "outputs": [
    {
     "data": {
      "text/plain": [
       "Unnamed: 0    0\n",
       "A             0\n",
       "AAL           0\n",
       "AAP           0\n",
       "AAPL          0\n",
       "             ..\n",
       "YUM           0\n",
       "ZBH           0\n",
       "ZION          0\n",
       "ZTS           0\n",
       "Cash          0\n",
       "Length: 507, dtype: int64"
      ]
     },
     "execution_count": 45,
     "metadata": {},
     "output_type": "execute_result"
    }
   ],
   "source": [
    "# sum of null values in the data\n",
    "data.isna().sum()"
   ]
  },
  {
   "cell_type": "code",
   "execution_count": null,
   "metadata": {
    "id": "NERtImK8OUyu"
   },
   "outputs": [],
   "source": [
    "# # converting date column from object to datetime\n",
    "# data['Unnamed: 0'] = pd.to_datetime(data['Unnamed: 0'])"
   ]
  },
  {
   "cell_type": "markdown",
   "metadata": {
    "id": "JEWQ75jROI4e"
   },
   "source": [
    "# Trend Analysis"
   ]
  },
  {
   "cell_type": "code",
   "execution_count": null,
   "metadata": {
    "colab": {
     "base_uri": "https://localhost:8080/"
    },
    "id": "XEXoDyMhM1Ig",
    "outputId": "7fc944f6-9000-4d1b-f208-eb6fc36ba161"
   },
   "outputs": [
    {
     "data": {
      "image/png": "[encoded data removed]",
      "text/plain": [
       "<Figure size 432x288 with 1 Axes>"
      ]
     },
     "metadata": {
      "needs_background": "light"
     },
     "output_type": "display_data"
    }
   ],
   "source": [
    "import matplotlib.pyplot as plt\n",
    "\n",
    "# using matplotlib to plot the data\n",
    "data.plot.line(x = 'Unnamed: 0', y = 'AAPL ')\n",
    "plt.show()"
   ]
  },
  {
   "cell_type": "code",
   "execution_count": null,
   "metadata": {
    "colab": {
     "base_uri": "https://localhost:8080/"
    },
    "id": "felIU835NqPW",
    "outputId": "b0b9b1b9-ccc9-4229-ec7e-f8fb4dd0603d"
   },
   "outputs": [
    {
     "data": {
      "image/png": "[encoded data removed]",
      "text/plain": [
       "<Figure size 432x288 with 1 Axes>"
      ]
     },
     "metadata": {
      "needs_background": "light"
     },
     "output_type": "display_data"
    }
   ],
   "source": [
    "# using matplotlib to plot the data\n",
    "data.plot.line(x = 'Unnamed: 0', y = 'AAL ')\n",
    "plt.show()"
   ]
  },
  {
   "cell_type": "code",
   "execution_count": null,
   "metadata": {
    "colab": {
     "base_uri": "https://localhost:8080/"
    },
    "id": "4QIHysMxNuV-",
    "outputId": "4a366f23-b31c-4b5a-b59f-e8bcfa6c9f82"
   },
   "outputs": [
    {
     "data": {
      "image/png": "[encoded data removed]",
      "text/plain": [
       "<Figure size 432x288 with 1 Axes>"
      ]
     },
     "metadata": {
      "needs_background": "light"
     },
     "output_type": "display_data"
    }
   ],
   "source": [
    "# using matplotlib to plot the data\n",
    "data.plot.line(x = 'Unnamed: 0', y = 'ZBH ')\n",
    "plt.show()"
   ]
  },
  {
   "cell_type": "code",
   "execution_count": null,
   "metadata": {
    "colab": {
     "base_uri": "https://localhost:8080/"
    },
    "id": "pOEDKuwTNxem",
    "outputId": "886bfe15-5a79-4340-fedf-e4fed087d678"
   },
   "outputs": [
    {
     "data": {
      "image/png": "[encoded data removed]",
      "text/plain": [
       "<Figure size 432x288 with 1 Axes>"
      ]
     },
     "metadata": {
      "needs_background": "light"
     },
     "output_type": "display_data"
    }
   ],
   "source": [
    "# using matplotlib to plot the data\n",
    "data.plot.line(x = 'Unnamed: 0', y = 'ABMD ')\n",
    "plt.show()"
   ]
  },
  {
   "cell_type": "code",
   "execution_count": null,
   "metadata": {
    "colab": {
     "base_uri": "https://localhost:8080/"
    },
    "id": "6PsdCElyN4H-",
    "outputId": "df724300-1b8f-40a8-8704-d4533b89aa41"
   },
   "outputs": [
    {
     "data": {
      "image/png": "[encoded data removed]",
      "text/plain": [
       "<Figure size 432x288 with 1 Axes>"
      ]
     },
     "metadata": {
      "needs_background": "light"
     },
     "output_type": "display_data"
    }
   ],
   "source": [
    "# using matplotlib to plot the data\n",
    "data.plot.line(x = 'Unnamed: 0', y = 'YUM ')\n",
    "plt.show()"
   ]
  },
  {
   "cell_type": "markdown",
   "metadata": {
    "id": "nJ58rdwUFnt3"
   },
   "source": [
    "# Selecting stock"
   ]
  },
  {
   "cell_type": "code",
   "execution_count": null,
   "metadata": {
    "id": "hQQEopqzFqxG"
   },
   "outputs": [],
   "source": [
    "data_stock = data['AAPL ']"
   ]
  },
  {
   "cell_type": "code",
   "execution_count": null,
   "metadata": {
    "colab": {
     "base_uri": "https://localhost:8080/"
    },
    "id": "9dug3WhxIjTv",
    "outputId": "ea5759ac-5a14-400e-cf93-745a697de07b"
   },
   "outputs": [
    {
     "data": {
      "text/plain": [
       "(891,)"
      ]
     },
     "execution_count": 53,
     "metadata": {},
     "output_type": "execute_result"
    }
   ],
   "source": [
    "data_stock.shape"
   ]
  },
  {
   "cell_type": "code",
   "execution_count": null,
   "metadata": {
    "colab": {
     "base_uri": "https://localhost:8080/"
    },
    "id": "DF1W8iTRFc0S",
    "outputId": "e3b29e3d-4e81-4665-8900-41078852fcc0"
   },
   "outputs": [
    {
     "data": {
      "text/plain": [
       "713"
      ]
     },
     "execution_count": 54,
     "metadata": {},
     "output_type": "execute_result"
    }
   ],
   "source": [
    "891 - 178\n"
   ]
  },
  {
   "cell_type": "code",
   "execution_count": null,
   "metadata": {
    "id": "vs9wCii6NFHm"
   },
   "outputs": [],
   "source": [
    "data_stock_np = np.array(data_stock)"
   ]
  },
  {
   "cell_type": "code",
   "execution_count": null,
   "metadata": {
    "colab": {
     "base_uri": "https://localhost:8080/"
    },
    "id": "ZcO_n3tUNLmO",
    "outputId": "50cb9d20-6884-4080-c4f5-f5379f882833"
   },
   "outputs": [
    {
     "data": {
      "text/plain": [
       "188.59"
      ]
     },
     "execution_count": 56,
     "metadata": {},
     "output_type": "execute_result"
    }
   ],
   "source": [
    "data_stock_np[-15]"
   ]
  },
  {
   "cell_type": "code",
   "execution_count": null,
   "metadata": {
    "colab": {
     "base_uri": "https://localhost:8080/",
     "height": 265
    },
    "id": "O8YnizcVFfir",
    "outputId": "6ccae488-2716-4252-9b7b-966f6b3d2768"
   },
   "outputs": [
    {
     "data": {
      "image/png": "[encoded data removed]",
      "text/plain": [
       "<Figure size 432x288 with 1 Axes>"
      ]
     },
     "metadata": {
      "needs_background": "light"
     },
     "output_type": "display_data"
    }
   ],
   "source": [
    "data_stock[:713].plot.line(x = 'Unnamed: 0', y = 'AAPL ')\n",
    "plt.show()"
   ]
  },
  {
   "cell_type": "code",
   "execution_count": null,
   "metadata": {
    "colab": {
     "base_uri": "https://localhost:8080/",
     "height": 265
    },
    "id": "9B3ZOs-vDkjt",
    "outputId": "894c4d71-ba31-4aaa-ba89-e03cab3223fc"
   },
   "outputs": [
    {
     "data": {
      "image/png": "[encoded data removed]",
      "text/plain": [
       "<Figure size 432x288 with 1 Axes>"
      ]
     },
     "metadata": {
      "needs_background": "light"
     },
     "output_type": "display_data"
    }
   ],
   "source": [
    "data_stock[-178:].plot.line(x = 'Unnamed: 0', y = 'AAPL ')\n",
    "plt.show()"
   ]
  },
  {
   "cell_type": "code",
   "execution_count": null,
   "metadata": {
    "colab": {
     "base_uri": "https://localhost:8080/",
     "height": 265
    },
    "id": "Tpm9ckWuDb1N",
    "outputId": "c19a804f-b136-4179-c3b7-6cb96886f494"
   },
   "outputs": [
    {
     "data": {
      "image/png": "[encoded data removed]",
      "text/plain": [
       "<Figure size 432x288 with 1 Axes>"
      ]
     },
     "metadata": {
      "needs_background": "light"
     },
     "output_type": "display_data"
    }
   ],
   "source": [
    "data_stock[-15:].plot.line(x = 'Unnamed: 0', y = 'AAPL ')\n",
    "plt.show()"
   ]
  },
  {
   "cell_type": "markdown",
   "metadata": {
    "id": "TijJxohaUPZq"
   },
   "source": [
    "# Utility function"
   ]
  },
  {
   "cell_type": "code",
   "execution_count": null,
   "metadata": {
    "colab": {
     "base_uri": "https://localhost:8080/"
    },
    "id": "d2teAvMsUSJi",
    "outputId": "82678dc7-a8d2-424d-90f1-d42ab5a1bd98"
   },
   "outputs": [
    {
     "name": "stderr",
     "output_type": "stream",
     "text": [
      "/usr/local/lib/python3.7/dist-packages/ipykernel_launcher.py:4: FutureWarning: The pandas.datetime class is deprecated and will be removed from pandas in a future version. Import from datetime module instead.\n",
      "  after removing the cwd from sys.path.\n"
     ]
    }
   ],
   "source": [
    "from pandas import Series\n",
    "from pandas import concat\n",
    "from pandas import read_csv\n",
    "from pandas import datetime\n",
    "from sklearn.metrics import mean_squared_error\n",
    "from sklearn.preprocessing import MinMaxScaler\n",
    "from keras.models import Sequential\n",
    "from keras.layers import Dense, Bidirectional\n",
    "from keras.layers import LSTM\n",
    "from math import sqrt\n",
    "from matplotlib import pyplot\n",
    "import numpy\n",
    "from tensorflow.keras import layers\n",
    "\n",
    "# converting the series data to supervised data\n",
    "def series_data_to_supervised_data(data, lag=1):\n",
    "\tdf = pd.DataFrame(data)\n",
    "\tcolumns = [df.shift(i) for i in range(1, lag+1)]\n",
    "\tcolumns.append(df)\n",
    "\tdf = concat(columns, axis=1)\n",
    "\tdf.fillna(0, inplace=True)\n",
    "\treturn df\n",
    " \n",
    "# finding difference between rows\n",
    "def difference(dataset, interval=1):\n",
    "\tdiff = list()\n",
    "\tfor i in range(interval, len(dataset)):\n",
    "\t\tvalue = dataset[i] - dataset[i - interval]\n",
    "\t\tdiff.append(value)\n",
    "\treturn Series(diff)\n",
    " \n",
    "# inverting the difference value\n",
    "def inverse_the_difference(history_data, yhat, interval=1):\n",
    " \n",
    "  return (yhat+history_data[-interval])\n",
    " \n",
    "# scaling the difference\n",
    "def scale(train, test):\n",
    "\t# scaler\n",
    "\tscaler = MinMaxScaler(feature_range=(-1, 1))\n",
    "\tscaler = scaler.fit(train)\n",
    "\n",
    "\ttrain = train.reshape(train.shape[0], train.shape[1])\n",
    "\ttrain_scaled = scaler.transform(train)\n",
    "\n",
    "\ttest = test.reshape(test.shape[0], test.shape[1])\n",
    "\ttest_scaled = scaler.transform(test)\n",
    "\treturn scaler, train_scaled, test_scaled\n",
    " \n",
    "# inverse the scaling \n",
    "def invert_scale(scaler, X, value):\n",
    "\ttemp = [x for x in X] + [value]\n",
    "\tarray = numpy.array(temp)\n",
    "\tarray = array.reshape(1, len(array))\n",
    "\tdata_inverted = scaler.inverse_transform(array)\n",
    "\treturn data_inverted[0, -1]\n",
    " \n",
    "# LSTM model\n",
    "def fit_lstm(train, batchSize, epoch, neurons):\n",
    "\tX, y = train[:, 0:-1], train[:, -1]\n",
    "\tX = X.reshape(X.shape[0], 1, X.shape[1])\n",
    "\tmodel = Sequential()\n",
    "\tmodel.add(LSTM(neurons, batch_input_shape=(batchSize, X.shape[1], X.shape[2]), stateful=True))\n",
    "\tmodel.add(Dense(1))\n",
    " \n",
    "\tmodel.compile(loss='mean_squared_error', optimizer='adam')\n",
    "\tfor i in range(epoch):\n",
    "\t\tmodel.fit(X, y, epochs=1, batch_size=batchSize, verbose=0, shuffle=False)\n",
    "\t\tmodel.reset_states()\n",
    "\treturn model\n",
    "\n",
    "\n",
    "# make a one-step forecast\n",
    "def forecast_lstm(model, batch_size, X):\n",
    "\tX = X.reshape(1, 1, len(X))\n",
    "\tyhat = model.predict(X, batch_size=batch_size)\n",
    "\treturn yhat[0,0]\n",
    "\n",
    "def fit_rnn(train,batchSize,epoch, neurons):\n",
    "  X, y = train[:, 0:-1], train[:, -1]\n",
    "  X = X.reshape(X.shape[0], 1, X.shape[1])\n",
    "\n",
    "  \n",
    "  #RNN model\n",
    "  \n",
    "  print(\"X.shape[1]), \",X.shape[1])\n",
    "  print(\"X.shape[2]) \",X.shape[2])\n",
    "\n",
    "  model = Sequential()\n",
    "  model.add(layers.SimpleRNN(neurons, batch_input_shape=(batchSize, X.shape[1], X.shape[2])))\n",
    "  model.add(layers.Dense(1))\n",
    "  model.compile(loss='mean_squared_error', optimizer='adam')\n",
    " \n",
    " \n",
    "  for i in range(epoch):\n",
    "    model.fit(X, y, epochs=1, batch_size=batchSize, verbose=0, shuffle=False )\n",
    "    model.reset_states()\n",
    "  return model\n",
    "\n",
    "# make a one-step forecast\n",
    "def forecast_lstm(model, batch_size, X):\n",
    "\tX = X.reshape(1, 1, len(X))\n",
    "\tyhat = model.predict(X, batch_size=batch_size)\n",
    "\treturn yhat[0,0]\n",
    "  \n",
    "\n",
    "# make a one-step forecast\n",
    "def forecast_rnn(model, batch_size, X):\n",
    "\tX = X.reshape(1, 1, len(X))\n",
    "\tyhat = model.predict(X, batch_size=batch_size)\n",
    "\treturn yhat[0,0]\n",
    "  \n",
    "def fit_cnn(train,batchSize,epoch, neurons):\n",
    "  X, y = train[:, 0:-1], train[:, -1]\n",
    "  X = X.reshape(X.shape[0], 1, X.shape[1])\n",
    "  print(\"X.shape[1]), \",X.shape[1])\n",
    "  print(\"X.shape[2]) \",X.shape[2])\n",
    "  \n",
    "  #CNN model\n",
    "  model = Sequential()\n",
    "  model.add(layers.Conv1D(neurons,1, batch_input_shape=(batchSize, X.shape[1], X.shape[2])))\n",
    "  model.add(layers.GlobalMaxPooling1D())\n",
    "  model.add(layers.Dense(1))\n",
    "  model.compile(loss='mean_squared_error', optimizer='adam')\n",
    "  \n",
    "   #model.add(layers.Dense(3, activation='sigmoid'))\n",
    "  for i in range(epoch):\n",
    "    model.fit(X, y, epochs=1, batch_size=batchSize, verbose=0, shuffle=False )\n",
    "    model.reset_states()\n",
    "  return model\n",
    "\n",
    "\n",
    "# make a one-step forecast\n",
    "def forecast_cnn(model, batch_size, X):\n",
    "\tX = X.reshape(1, 1, len(X))\n",
    "\tyhat = model.predict(X, batch_size=batch_size)\n",
    "\treturn yhat[0,0]\n",
    "  \n",
    "\n",
    "  \n",
    "def fit_bilstm(train,batchSize,epoch, neurons):\n",
    "  X, y = train[:, 0:-1], train[:, -1]\n",
    "  X = X.reshape(X.shape[0], 1, X.shape[1])\n",
    "  model = Sequential()\n",
    "\n",
    "\n",
    "  print(\"X.shape[1]), \",X.shape[1])\n",
    "  print(\"X.shape[2]) \",X.shape[2])\n",
    "  \n",
    "  # Bi LSTM Model\n",
    "  model = Sequential()\n",
    "  model.add(Bidirectional(LSTM(neurons, batch_input_shape=(batchSize, X.shape[1], X.shape[2]), stateful=True)))\n",
    "  model.add(Dense(1))\n",
    "  model.compile(loss='mean_squared_error', optimizer='adam')\n",
    "\n",
    "  #model.add(layers.Dense(3, activation='sigmoid'))\n",
    "  for i in range(epoch):\n",
    "    model.fit(X, y, epochs=1, batch_size=batchSize, verbose=0, shuffle=False )\n",
    "    model.reset_states()\n",
    "  return model\n",
    "\n",
    "\n",
    "# make a one-step forecast\n",
    "def forecast_bilstm(model, batch_size, X):\n",
    "\tX = X.reshape(1, 1, len(X))\n",
    "\tyhat = model.predict(X, batch_size=batch_size)\n",
    "\treturn yhat[0,0]\n",
    "  "
   ]
  },
  {
   "cell_type": "markdown",
   "metadata": {
    "id": "fes4t8MQODq2"
   },
   "source": [
    "# LSTM"
   ]
  },
  {
   "cell_type": "code",
   "execution_count": null,
   "metadata": {
    "colab": {
     "base_uri": "https://localhost:8080/"
    },
    "id": "FiCKTGUtWuRP",
    "outputId": "823ee155-6729-4c52-bd0d-7093de953bce"
   },
   "outputs": [
    {
     "data": {
      "text/plain": [
       "(891,)"
      ]
     },
     "execution_count": 23,
     "metadata": {},
     "output_type": "execute_result"
    }
   ],
   "source": [
    "data_stock.shape"
   ]
  },
  {
   "cell_type": "code",
   "execution_count": null,
   "metadata": {
    "colab": {
     "base_uri": "https://localhost:8080/"
    },
    "id": "SrXrLoNLXGQ-",
    "outputId": "bd7cc923-11c8-4f33-85a5-b571f2dd6531"
   },
   "outputs": [
    {
     "data": {
      "text/plain": [
       "178.20000000000002"
      ]
     },
     "execution_count": 24,
     "metadata": {},
     "output_type": "execute_result"
    }
   ],
   "source": [
    "0.20 * 891"
   ]
  },
  {
   "cell_type": "code",
   "execution_count": null,
   "metadata": {
    "colab": {
     "base_uri": "https://localhost:8080/",
     "height": 299
    },
    "id": "bis7czxzNco8",
    "outputId": "247caada-ba28-45ad-f53b-3f227f45ebc2"
   },
   "outputs": [
    {
     "name": "stdout",
     "output_type": "stream",
     "text": [
      "\n",
      " Test RMSE: 2.379\n"
     ]
    },
    {
     "data": {
      "image/png": "[encoded data removed]",
      "text/plain": [
       "<Figure size 432x288 with 1 Axes>"
      ]
     },
     "metadata": {
      "needs_background": "light"
     },
     "output_type": "display_data"
    }
   ],
   "source": [
    "\n",
    "# modify data to be stationary\n",
    "raw_values = np.array(data_stock)\n",
    "diff_values = difference(raw_values, 1)\n",
    "# modify data to be supervised \n",
    "supervised = series_data_to_supervised_data(diff_values, 1)\n",
    "supervised_values = supervised.values\n",
    "\n",
    "# split data \n",
    "train, test = supervised_values[0:-178], supervised_values[-178:]\n",
    "\n",
    "# modify the scale of the data\n",
    "scaler, train_scaled, test_scaled = scale(train, test)\n",
    " \n",
    "# fit the model\n",
    "lstm_model = fit_lstm(train_scaled, 1, 1, 4)\n",
    "\n",
    "# forecast \n",
    "train_reshaped = train_scaled[:, 0].reshape(len(train_scaled), 1, 1)\n",
    "lstm_model.predict(train_reshaped, batch_size=1)\n",
    " \n",
    "# walk-forward validation on the test data\n",
    "predictions = list()\n",
    "for i in range(len(test_scaled)):\n",
    "\t# make one-step forecast\n",
    "\tX, y = test_scaled[i, 0:-1], test_scaled[i, -1]\n",
    "\tyhat = forecast_lstm(lstm_model, 1, X)\n",
    "\t# invert scaling\n",
    "\tyhat = invert_scale(scaler, X, yhat)\n",
    "  \n",
    "\tyhat = inverse_the_difference(raw_values, yhat, len(test_scaled)-i+1)\n",
    "\t# store forecast\n",
    "\tpredictions.append(yhat)\n",
    "\texpected = raw_values[len(train) + i + 1]\n",
    "\t#print('Month=%d, Predicted=%f, Expected=%f' % (i+1, yhat, expected))\n",
    " \n",
    "\n",
    "##print(\"X and y data : \", X ,\" y = \",y )\n",
    "#print(\"yhat = \", yhat)\n",
    "# report performance\n",
    "rmse = sqrt(mean_squared_error(raw_values[-178:], predictions))\n",
    "print('\\n Test RMSE: %.3f' % rmse)\n",
    "# line plot of observed vs predicted\n",
    "pyplot.plot(raw_values[-178:])\n",
    "pyplot.plot(predictions)\n",
    "pyplot.show()"
   ]
  },
  {
   "cell_type": "markdown",
   "metadata": {
    "id": "B9GgRD3mr4lo"
   },
   "source": [
    "## Over 15 test rows"
   ]
  },
  {
   "cell_type": "code",
   "execution_count": null,
   "metadata": {
    "colab": {
     "base_uri": "https://localhost:8080/",
     "height": 299
    },
    "id": "ucY6K_acrGaB",
    "outputId": "6033cc0c-444c-47fc-bb18-11315cedc61d"
   },
   "outputs": [
    {
     "name": "stdout",
     "output_type": "stream",
     "text": [
      "\n",
      " Test RMSE: 0.932\n"
     ]
    },
    {
     "data": {
      "image/png": "[encoded data removed]",
      "text/plain": [
       "<Figure size 432x288 with 1 Axes>"
      ]
     },
     "metadata": {
      "needs_background": "light"
     },
     "output_type": "display_data"
    }
   ],
   "source": [
    "\n",
    "# modify data to be stationary\n",
    "raw_values = np.array(data_stock)\n",
    "diff_values = difference(raw_values, 1)\n",
    "# modify data to be supervised \n",
    "supervised = series_data_to_supervised_data(diff_values, 1)\n",
    "supervised_values = supervised.values\n",
    "\n",
    "# split data \n",
    "train, test = supervised_values[0:-15], supervised_values[-15:]\n",
    "\n",
    "# modify the scale of the data\n",
    "scaler, train_scaled, test_scaled = scale(train, test)\n",
    " \n",
    "# fit the model\n",
    "lstm_model = fit_lstm(train_scaled, 1, 1, 4)\n",
    "\n",
    "# forecast \n",
    "train_reshaped = train_scaled[:, 0].reshape(len(train_scaled), 1, 1)\n",
    "lstm_model.predict(train_reshaped, batch_size=1)\n",
    " \n",
    "# walk-forward validation on the test data\n",
    "predictions = list()\n",
    "for i in range(len(test_scaled)):\n",
    "\t# make one-step forecast\n",
    "\tX, y = test_scaled[i, 0:-1], test_scaled[i, -1]\n",
    "\tyhat = forecast_lstm(lstm_model, 1, X)\n",
    "\t# invert scaling\n",
    "\tyhat = invert_scale(scaler, X, yhat)\n",
    "  \n",
    "\tyhat = inverse_the_difference(raw_values, yhat, len(test_scaled)-i+1)\n",
    "\t# store forecast\n",
    "\tpredictions.append(yhat)\n",
    "\texpected = raw_values[len(train) + i + 1]\n",
    "\t#print('Month=%d, Predicted=%f, Expected=%f' % (i+1, yhat, expected))\n",
    " \n",
    "\n",
    "##print(\"X and y data : \", X ,\" y = \",y )\n",
    "#print(\"yhat = \", yhat)\n",
    "# report performance\n",
    "rmse = sqrt(mean_squared_error(raw_values[-15:], predictions))\n",
    "print('\\n Test RMSE: %.3f' % rmse)\n",
    "# line plot of observed vs predicted\n",
    "pyplot.plot(raw_values[-15:])\n",
    "pyplot.plot(predictions)\n",
    "pyplot.show()"
   ]
  },
  {
   "cell_type": "markdown",
   "metadata": {
    "id": "c-mn7xHPRLyw"
   },
   "source": [
    "# RNN"
   ]
  },
  {
   "cell_type": "code",
   "execution_count": null,
   "metadata": {
    "colab": {
     "base_uri": "https://localhost:8080/",
     "height": 1000
    },
    "id": "evm0fsa-Osgi",
    "outputId": "ca5a70f4-0d6e-4775-9783-91a46a2442ee"
   },
   "outputs": [
    {
     "name": "stdout",
     "output_type": "stream",
     "text": [
      "X.shape[1]),  1\n",
      "X.shape[2])  1\n",
      "Month=1, Predicted=151.365079, Expected=153.140000\n",
      "Month=2, Predicted=153.860041, Expected=154.230000\n",
      "Month=3, Predicted=154.974440, Expected=153.280000\n",
      "Month=4, Predicted=154.080877, Expected=154.120000\n",
      "Month=5, Predicted=154.869833, Expected=153.810000\n",
      "Month=6, Predicted=154.590022, Expected=154.480000\n",
      "Month=7, Predicted=155.233731, Expected=153.480000\n",
      "Month=8, Predicted=154.282634, Expected=155.390000\n",
      "Month=9, Predicted=156.119480, Expected=155.300000\n",
      "Month=10, Predicted=156.073539, Expected=155.840000\n",
      "Month=11, Predicted=156.596841, Expected=155.900000\n",
      "Month=12, Predicted=156.669315, Expected=156.550000\n",
      "Month=13, Predicted=157.304203, Expected=156.000000\n",
      "Month=14, Predicted=156.787492, Expected=156.990000\n",
      "Month=15, Predicted=157.736549, Expected=159.880000\n",
      "Month=16, Predicted=160.596671, Expected=160.470000\n",
      "Month=17, Predicted=161.225632, Expected=159.760000\n",
      "Month=18, Predicted=160.552704, Expected=155.980000\n",
      "Month=19, Predicted=156.910692, Expected=156.250000\n",
      "Month=20, Predicted=157.013663, Expected=156.170000\n",
      "Month=21, Predicted=156.943252, Expected=157.100000\n",
      "Month=22, Predicted=157.847845, Expected=156.410000\n",
      "Month=23, Predicted=157.202042, Expected=157.410000\n",
      "Month=24, Predicted=158.156335, Expected=163.050000\n",
      "Month=25, Predicted=163.754656, Expected=166.720000\n",
      "Month=26, Predicted=167.430003, Expected=169.040000\n",
      "Month=27, Predicted=169.763483, Expected=166.890000\n",
      "Month=28, Predicted=167.738298, Expected=168.110000\n",
      "Month=29, Predicted=168.851793, Expected=172.500000\n",
      "Month=30, Predicted=173.206301, Expected=174.250000\n",
      "Month=31, Predicted=174.982082, Expected=174.810000\n",
      "Month=32, Predicted=175.566355, Expected=176.240000\n",
      "Month=33, Predicted=176.977741, Expected=175.880000\n",
      "Month=34, Predicted=176.661544, Expected=174.670000\n",
      "Month=35, Predicted=175.480218, Expected=173.970000\n",
      "Month=36, Predicted=174.762373, Expected=171.340000\n",
      "Month=37, Predicted=172.210396, Expected=169.080000\n",
      "Month=38, Predicted=169.933202, Expected=171.100000\n",
      "Month=39, Predicted=171.827778, Expected=170.150000\n",
      "Month=40, Predicted=170.950877, Expected=169.980000\n",
      "Month=41, Predicted=170.755857, Expected=173.140000\n",
      "Month=42, Predicted=173.854029, Expected=174.960000\n",
      "Month=43, Predicted=175.690925, Expected=174.960000\n",
      "Month=44, Predicted=175.730985, Expected=174.970000\n",
      "Month=45, Predicted=175.740705, Expected=174.090000\n",
      "Month=46, Predicted=174.888449, Expected=173.070000\n",
      "Month=47, Predicted=173.873342, Expected=169.480000\n",
      "Month=48, Predicted=170.400019, Expected=171.850000\n",
      "Month=49, Predicted=172.572816, Expected=171.050000\n",
      "Month=50, Predicted=171.845719, Expected=169.800000\n",
      "Month=51, Predicted=170.611700, Expected=169.640000\n",
      "Month=52, Predicted=170.415564, Expected=169.010000\n",
      "Month=53, Predicted=169.800074, Expected=169.320000\n",
      "Month=54, Predicted=170.082621, Expected=169.370000\n",
      "Month=55, Predicted=170.139591, Expected=172.670000\n",
      "Month=56, Predicted=173.382801, Expected=171.700000\n",
      "Month=57, Predicted=172.501578, Expected=172.270000\n",
      "Month=58, Predicted=173.026114, Expected=172.220000\n",
      "Month=59, Predicted=172.992396, Expected=173.970000\n",
      "Month=60, Predicted=174.702082, Expected=176.420000\n",
      "Month=61, Predicted=177.141777, Expected=174.540000\n",
      "Month=62, Predicted=175.376660, Expected=174.350000\n",
      "Month=63, Predicted=175.126443, Expected=175.010000\n",
      "Month=64, Predicted=175.763966, Expected=175.010000\n",
      "Month=65, Predicted=175.780985, Expected=175.010000\n",
      "Month=66, Predicted=175.780985, Expected=170.570000\n",
      "Month=67, Predicted=171.539909, Expected=170.600000\n",
      "Month=68, Predicted=171.370147, Expected=171.080000\n",
      "Month=69, Predicted=171.838314, Expected=169.230000\n",
      "Month=70, Predicted=170.065402, Expected=169.230000\n",
      "Month=71, Predicted=170.000985, Expected=172.260000\n",
      "Month=72, Predicted=172.975256, Expected=172.230000\n",
      "Month=73, Predicted=173.001830, Expected=173.030000\n",
      "Month=74, Predicted=173.780733, Expected=175.000000\n",
      "Month=75, Predicted=175.728543, Expected=174.350000\n",
      "Month=76, Predicted=175.140728, Expected=174.330000\n",
      "Month=77, Predicted=175.101547, Expected=174.290000\n",
      "Month=78, Predicted=175.062113, Expected=175.280000\n",
      "Month=79, Predicted=176.026549, Expected=177.090000\n",
      "Month=80, Predicted=177.821088, Expected=177.090000\n",
      "Month=81, Predicted=177.860985, Expected=176.190000\n",
      "Month=82, Predicted=176.989139, Expected=179.100000\n",
      "Month=83, Predicted=179.816463, Expected=179.260000\n",
      "Month=84, Predicted=180.026585, Expected=178.460000\n",
      "Month=85, Predicted=179.255719, Expected=177.000000\n",
      "Month=86, Predicted=177.819681, Expected=177.040000\n",
      "Month=87, Predicted=177.809869, Expected=174.220000\n",
      "Month=88, Predicted=175.099643, Expected=171.110000\n",
      "Month=89, Predicted=172.004305, Expected=171.510000\n",
      "Month=90, Predicted=172.270317, Expected=167.960000\n",
      "Month=91, Predicted=168.877807, Expected=166.970000\n",
      "Month=92, Predicted=167.772281, Expected=167.430000\n",
      "Month=93, Predicted=168.188811, Expected=167.780000\n",
      "Month=94, Predicted=168.541590, Expected=160.500000\n",
      "Month=95, Predicted=161.672892, Expected=156.490000\n",
      "Month=96, Predicted=157.433983, Expected=163.030000\n",
      "Month=97, Predicted=163.736570, Expected=159.540000\n",
      "Month=98, Predicted=160.454514, Expected=155.150000\n",
      "Month=99, Predicted=156.116823, Expected=156.410000\n",
      "Month=100, Predicted=157.151001, Expected=162.710000\n",
      "Month=101, Predicted=163.415841, Expected=164.340000\n",
      "Month=102, Predicted=165.074132, Expected=167.370000\n",
      "Month=103, Predicted=168.085256, Expected=172.990000\n",
      "Month=104, Predicted=173.694640, Expected=172.430000\n",
      "Month=105, Predicted=173.217812, Expected=172.430000\n",
      "Month=106, Predicted=173.200985, Expected=171.850000\n",
      "Month=107, Predicted=172.638455, Expected=171.070000\n",
      "Month=108, Predicted=171.865044, Expected=172.500000\n",
      "Month=109, Predicted=173.237741, Expected=175.500000\n",
      "Month=110, Predicted=176.215551, Expected=178.970000\n",
      "Month=111, Predicted=179.681436, Expected=178.390000\n",
      "Month=112, Predicted=179.178455, Expected=178.120000\n",
      "Month=113, Predicted=178.898818, Expected=175.000000\n",
      "Month=114, Predicted=175.894822, Expected=176.210000\n",
      "Month=115, Predicted=176.951993, Expected=176.820000\n",
      "Month=116, Predicted=177.575153, Expected=176.670000\n",
      "Month=117, Predicted=177.445273, Expected=175.030000\n",
      "Month=118, Predicted=175.856791, Expected=176.940000\n",
      "Month=119, Predicted=177.669480, Expected=179.980000\n",
      "Month=120, Predicted=180.695159, Expected=181.720000\n",
      "Month=121, Predicted=182.452250, Expected=179.970000\n",
      "Month=122, Predicted=180.801259, Expected=178.440000\n",
      "Month=123, Predicted=179.262417, Expected=178.650000\n",
      "Month=124, Predicted=179.415247, Expected=178.020000\n",
      "Month=125, Predicted=178.810074, Expected=175.300000\n",
      "Month=126, Predicted=176.174741, Expected=175.240000\n",
      "Month=127, Predicted=176.012681, Expected=171.270000\n",
      "Month=128, Predicted=172.211643, Expected=168.850000\n",
      "Month=129, Predicted=169.710506, Expected=164.940000\n",
      "Month=130, Predicted=165.878154, Expected=172.770000\n",
      "Month=131, Predicted=173.482716, Expected=168.340000\n",
      "Month=132, Predicted=169.309290, Expected=166.480000\n",
      "Month=133, Predicted=167.315821, Expected=167.780000\n",
      "Month=134, Predicted=168.520218, Expected=167.780000\n",
      "Month=135, Predicted=168.550985, Expected=166.680000\n",
      "Month=136, Predicted=167.486204, Expected=168.390000\n",
      "Month=137, Predicted=169.122756, Expected=171.610000\n",
      "Month=138, Predicted=172.323491, Expected=172.800000\n",
      "Month=139, Predicted=173.542395, Expected=168.380000\n",
      "Month=140, Predicted=169.348672, Expected=170.050000\n",
      "Month=141, Predicted=170.783439, Expected=173.250000\n",
      "Month=142, Predicted=173.963669, Expected=172.440000\n",
      "Month=143, Predicted=173.236058, Expected=174.140000\n",
      "Month=144, Predicted=174.872926, Expected=174.730000\n",
      "Month=145, Predicted=175.485632, Expected=175.820000\n",
      "Month=146, Predicted=176.564440, Expected=178.240000\n",
      "Month=147, Predicted=178.962163, Expected=177.840000\n",
      "Month=148, Predicted=178.622775, Expected=172.800000\n",
      "Month=149, Predicted=173.808365, Expected=165.720000\n",
      "Month=150, Predicted=166.877021, Expected=165.240000\n",
      "Month=151, Predicted=166.025270, Expected=162.940000\n",
      "Month=152, Predicted=163.795010, Expected=163.650000\n",
      "Month=153, Predicted=164.402797, Expected=164.220000\n",
      "Month=154, Predicted=164.976114, Expected=162.320000\n",
      "Month=155, Predicted=163.157502, Expected=165.260000\n",
      "Month=156, Predicted=165.976154, Expected=169.100000\n",
      "Month=157, Predicted=169.808927, Expected=176.570000\n",
      "Month=158, Predicted=177.280666, Expected=176.890000\n",
      "Month=159, Predicted=177.652362, Expected=183.830000\n",
      "Month=160, Predicted=184.538098, Expected=185.160000\n",
      "Month=161, Predicted=185.899637, Expected=186.050000\n",
      "Month=162, Predicted=186.798722, Expected=187.360000\n",
      "Month=163, Predicted=188.100023, Expected=190.040000\n",
      "Month=164, Predicted=190.758981, Expected=188.590000\n",
      "Month=165, Predicted=189.409294, Expected=188.150000\n",
      "Month=166, Predicted=188.934017, Expected=186.440000\n",
      "Month=167, Predicted=187.269624, Expected=188.180000\n",
      "Month=168, Predicted=188.912250, Expected=186.990000\n",
      "Month=169, Predicted=187.799481, Expected=186.310000\n",
      "Month=170, Predicted=187.101713, Expected=187.630000\n",
      "Month=171, Predicted=188.369830, Expected=187.160000\n",
      "Month=172, Predicted=187.944955, Expected=188.360000\n",
      "Month=173, Predicted=189.102194, Expected=188.150000\n",
      "Month=174, Predicted=188.927033, Expected=188.580000\n",
      "Month=175, Predicted=189.339561, Expected=188.580000\n",
      "Month=176, Predicted=189.350985, Expected=187.900000\n",
      "Month=177, Predicted=188.691713, Expected=187.500000\n",
      "Month=178, Predicted=188.282775, Expected=186.870000\n",
      "\n",
      " Test RMSE: 2.453\n"
     ]
    },
    {
     "data": {
      "image/png": "[encoded data removed]",
      "text/plain": [
       "<Figure size 432x288 with 1 Axes>"
      ]
     },
     "metadata": {
      "needs_background": "light"
     },
     "output_type": "display_data"
    }
   ],
   "source": [
    "\n",
    "raw_values = np.array(data_stock)\n",
    "diff_values = difference(raw_values, 1)\n",
    "# modify data to be supervised \n",
    "supervised = series_data_to_supervised_data(diff_values, 1)\n",
    "supervised_values = supervised.values\n",
    "\n",
    "# split data \n",
    "train, test = supervised_values[0:-178], supervised_values[-178:]\n",
    "\n",
    "# modify the scale of the data\n",
    "scaler, train_scaled, test_scaled = scale(train, test)\n",
    " \n",
    "# fit the model\n",
    "lstm_model = fit_rnn(train_scaled, 1, 1, 4)\n",
    "\n",
    "# forecast \n",
    "train_reshaped = train_scaled[:, 0].reshape(len(train_scaled), 1, 1)\n",
    "lstm_model.predict(train_reshaped, batch_size=1)\n",
    " \n",
    "# walk-forward validation on the test data\n",
    "predictions = list()\n",
    "for i in range(len(test_scaled)):\n",
    "\t# make one-step forecast\n",
    "\tX, y = test_scaled[i, 0:-1], test_scaled[i, -1]\n",
    "\tyhat = forecast_rnn(lstm_model, 1, X)\n",
    "\t# invert scaling\n",
    "\tyhat = invert_scale(scaler, X, yhat)\n",
    "  \n",
    "\tyhat = inverse_the_difference(raw_values, yhat, len(test_scaled)-i+1)\n",
    "\t# store forecast\n",
    "\tpredictions.append(yhat)\n",
    "\texpected = raw_values[len(train) + i + 1]\n",
    "\tprint('Month=%d, Predicted=%f, Expected=%f' % (i+1, yhat, expected))\n",
    " \n",
    "\n",
    "##print(\"X and y data : \", X ,\" y = \",y )\n",
    "#print(\"yhat = \", yhat)\n",
    "# report performance\n",
    "rmse = sqrt(mean_squared_error(raw_values[-178:], predictions))\n",
    "print('\\n Test RMSE: %.3f' % rmse)\n",
    "# line plot of observed vs predicted\n",
    "pyplot.plot(raw_values[-178:])\n",
    "pyplot.plot(predictions)\n",
    "pyplot.show()"
   ]
  },
  {
   "cell_type": "markdown",
   "metadata": {
    "id": "ate3ZRXCr6XH"
   },
   "source": [
    "## Over 15 test rows"
   ]
  },
  {
   "cell_type": "code",
   "execution_count": null,
   "metadata": {
    "colab": {
     "base_uri": "https://localhost:8080/",
     "height": 588
    },
    "id": "4VPPugWsr9Bg",
    "outputId": "eb1fb064-53ee-4595-d6c0-8837edea3ffe"
   },
   "outputs": [
    {
     "name": "stdout",
     "output_type": "stream",
     "text": [
      "X.shape[1]),  1\n",
      "X.shape[2])  1\n",
      "Month=1, Predicted=191.077884, Expected=188.590000\n",
      "Month=2, Predicted=189.605597, Expected=188.150000\n",
      "Month=3, Predicted=189.149991, Expected=186.440000\n",
      "Month=4, Predicted=187.461784, Expected=188.180000\n",
      "Month=5, Predicted=189.192958, Expected=186.990000\n",
      "Month=6, Predicted=188.000290, Expected=186.310000\n",
      "Month=7, Predicted=187.312471, Expected=187.630000\n",
      "Month=8, Predicted=188.635515, Expected=187.160000\n",
      "Month=9, Predicted=188.160259, Expected=188.360000\n",
      "Month=10, Predicted=189.363816, Expected=188.150000\n",
      "Month=11, Predicted=189.148341, Expected=188.580000\n",
      "Month=12, Predicted=189.577505, Expected=188.580000\n",
      "Month=13, Predicted=189.577457, Expected=187.900000\n",
      "Month=14, Predicted=188.902471, Expected=187.500000\n",
      "Month=15, Predicted=188.499653, Expected=186.870000\n",
      "\n",
      " Test RMSE: 1.558\n"
     ]
    },
    {
     "data": {
      "image/png": "[encoded data removed]",
      "text/plain": [
       "<Figure size 432x288 with 1 Axes>"
      ]
     },
     "metadata": {
      "needs_background": "light"
     },
     "output_type": "display_data"
    }
   ],
   "source": [
    "\n",
    "raw_values = np.array(data_stock)\n",
    "diff_values = difference(raw_values, 1)\n",
    "# modify data to be supervised \n",
    "supervised = series_data_to_supervised_data(diff_values, 1)\n",
    "supervised_values = supervised.values\n",
    "\n",
    "# split data \n",
    "train, test = supervised_values[0:-15], supervised_values[-15:]\n",
    "\n",
    "# modify the scale of the data\n",
    "scaler, train_scaled, test_scaled = scale(train, test)\n",
    " \n",
    "# fit the model\n",
    "lstm_model = fit_rnn(train_scaled, 1, 1, 4)\n",
    "\n",
    "# forecast \n",
    "train_reshaped = train_scaled[:, 0].reshape(len(train_scaled), 1, 1)\n",
    "lstm_model.predict(train_reshaped, batch_size=1)\n",
    " \n",
    "# walk-forward validation on the test data\n",
    "predictions = list()\n",
    "for i in range(len(test_scaled)):\n",
    "\t# make one-step forecast\n",
    "\tX, y = test_scaled[i, 0:-1], test_scaled[i, -1]\n",
    "\tyhat = forecast_rnn(lstm_model, 1, X)\n",
    "\t# invert scaling\n",
    "\tyhat = invert_scale(scaler, X, yhat)\n",
    "  \n",
    "\tyhat = inverse_the_difference(raw_values, yhat, len(test_scaled)-i+1)\n",
    "\t# store forecast\n",
    "\tpredictions.append(yhat)\n",
    "\texpected = raw_values[len(train) + i + 1]\n",
    "\tprint('Month=%d, Predicted=%f, Expected=%f' % (i+1, yhat, expected))\n",
    " \n",
    "\n",
    "##print(\"X and y data : \", X ,\" y = \",y )\n",
    "#print(\"yhat = \", yhat)\n",
    "# report performance\n",
    "rmse = sqrt(mean_squared_error(raw_values[-15:], predictions))\n",
    "print('\\n Test RMSE: %.3f' % rmse)\n",
    "# line plot of observed vs predicted\n",
    "pyplot.plot(raw_values[-15:])\n",
    "pyplot.plot(predictions)\n",
    "pyplot.show()"
   ]
  },
  {
   "cell_type": "markdown",
   "metadata": {
    "id": "fQg1G89DTXqB"
   },
   "source": [
    "# CNN Model\n"
   ]
  },
  {
   "cell_type": "code",
   "execution_count": null,
   "metadata": {
    "colab": {
     "base_uri": "https://localhost:8080/",
     "height": 1000
    },
    "id": "NBsu158rTXqb",
    "outputId": "caa59061-77d5-4caf-882d-92ab32901435"
   },
   "outputs": [
    {
     "name": "stdout",
     "output_type": "stream",
     "text": [
      "X.shape[1]),  1\n",
      "X.shape[2])  1\n",
      "Month=1, Predicted=151.164702, Expected=153.140000\n",
      "Month=2, Predicted=152.479176, Expected=154.230000\n",
      "Month=3, Predicted=154.056018, Expected=153.280000\n",
      "Month=4, Predicted=153.768123, Expected=154.120000\n",
      "Month=5, Predicted=154.027158, Expected=153.810000\n",
      "Month=6, Predicted=154.090404, Expected=154.480000\n",
      "Month=7, Predicted=154.442334, Expected=153.480000\n",
      "Month=8, Predicted=153.984351, Expected=155.390000\n",
      "Month=9, Predicted=154.949878, Expected=155.300000\n",
      "Month=10, Predicted=155.509000, Expected=155.840000\n",
      "Month=11, Predicted=155.844527, Expected=155.900000\n",
      "Month=12, Predicted=156.060316, Expected=156.550000\n",
      "Month=13, Predicted=156.518825, Expected=156.000000\n",
      "Month=14, Predicted=156.358298, Expected=156.990000\n",
      "Month=15, Predicted=156.848474, Expected=159.880000\n",
      "Month=16, Predicted=159.121808, Expected=160.470000\n",
      "Month=17, Predicted=160.458299, Expected=159.760000\n",
      "Month=18, Predicted=160.170228, Expected=155.980000\n",
      "Month=19, Predicted=157.386631, Expected=156.250000\n",
      "Month=20, Predicted=156.342158, Expected=156.170000\n",
      "Month=21, Predicted=156.375755, Expected=157.100000\n",
      "Month=22, Predicted=156.977948, Expected=156.410000\n",
      "Month=23, Predicted=156.813737, Expected=157.410000\n",
      "Month=24, Predicted=157.265228, Expected=163.050000\n",
      "Month=25, Predicted=161.399264, Expected=166.720000\n",
      "Month=26, Predicted=165.708650, Expected=169.040000\n",
      "Month=27, Predicted=168.466808, Expected=166.890000\n",
      "Month=28, Predicted=167.767597, Expected=168.110000\n",
      "Month=29, Predicted=167.893825, Expected=172.500000\n",
      "Month=30, Predicted=171.254966, Expected=174.250000\n",
      "Month=31, Predicted=173.861807, Expected=174.810000\n",
      "Month=32, Predicted=174.808035, Expected=176.240000\n",
      "Month=33, Predicted=175.955667, Expected=175.880000\n",
      "Month=34, Predicted=176.176632, Expected=174.670000\n",
      "Month=35, Predicted=175.242509, Expected=173.970000\n",
      "Month=36, Predicted=174.376983, Expected=171.340000\n",
      "Month=37, Predicted=172.373386, Expected=169.080000\n",
      "Month=38, Predicted=169.993298, Expected=171.100000\n",
      "Month=39, Predicted=170.624176, Expected=170.150000\n",
      "Month=40, Predicted=170.638123, Expected=169.980000\n",
      "Month=41, Predicted=170.214965, Expected=173.140000\n",
      "Month=42, Predicted=172.294176, Expected=174.960000\n",
      "Month=43, Predicted=174.549088, Expected=174.960000\n",
      "Month=44, Predicted=175.139790, Expected=174.970000\n",
      "Month=45, Predicted=175.146544, Expected=174.090000\n",
      "Month=46, Predicted=174.555404, Expected=173.070000\n",
      "Month=47, Predicted=173.580842, Expected=169.480000\n",
      "Month=48, Predicted=170.824965, Expected=171.850000\n",
      "Month=49, Predicted=171.260579, Expected=171.050000\n",
      "Month=50, Predicted=171.489439, Expected=169.800000\n",
      "Month=51, Predicted=170.385491, Expected=169.640000\n",
      "Month=52, Predicted=169.871720, Expected=169.010000\n",
      "Month=53, Predicted=169.394263, Expected=169.320000\n",
      "Month=54, Predicted=169.399176, Expected=169.370000\n",
      "Month=55, Predicted=169.533562, Expected=172.670000\n",
      "Month=56, Predicted=171.778737, Expected=171.700000\n",
      "Month=57, Predicted=172.194614, Expected=172.270000\n",
      "Month=58, Predicted=172.264790, Expected=172.220000\n",
      "Month=59, Predicted=172.416018, Expected=173.970000\n",
      "Month=60, Predicted=173.581807, Expected=176.420000\n",
      "Month=61, Predicted=175.804615, Expected=174.540000\n",
      "Month=62, Predicted=175.329965, Expected=174.350000\n",
      "Month=63, Predicted=174.591456, Expected=175.010000\n",
      "Month=64, Predicted=174.975579, Expected=175.010000\n",
      "Month=65, Predicted=175.189790, Expected=175.010000\n",
      "Month=66, Predicted=175.189790, Expected=170.570000\n",
      "Month=67, Predicted=172.190842, Expected=170.600000\n",
      "Month=68, Predicted=170.770053, Expected=171.080000\n",
      "Month=69, Predicted=171.104000, Expected=169.230000\n",
      "Month=70, Predicted=170.010228, Expected=169.230000\n",
      "Month=71, Predicted=169.409790, Expected=172.260000\n",
      "Month=72, Predicted=171.456369, Expected=172.230000\n",
      "Month=73, Predicted=172.419527, Expected=173.030000\n",
      "Month=74, Predicted=172.950141, Expected=175.000000\n",
      "Month=75, Predicted=174.540404, Expected=174.350000\n",
      "Month=76, Predicted=174.740755, Expected=174.330000\n",
      "Month=77, Predicted=174.516281, Expected=174.290000\n",
      "Month=78, Predicted=174.482772, Expected=175.280000\n",
      "Month=79, Predicted=175.138474, Expected=177.090000\n",
      "Month=80, Predicted=176.682334, Expected=177.090000\n",
      "Month=81, Predicted=177.269790, Expected=176.190000\n",
      "Month=82, Predicted=176.661895, Expected=179.100000\n",
      "Month=83, Predicted=178.335316, Expected=179.260000\n",
      "Month=84, Predicted=179.387860, Expected=178.460000\n",
      "Month=85, Predicted=178.899439, Expected=177.000000\n",
      "Month=86, Predicted=177.653649, Expected=177.040000\n",
      "Month=87, Predicted=177.206807, Expected=174.220000\n",
      "Month=88, Predicted=175.315053, Expected=171.110000\n",
      "Month=89, Predicted=172.299175, Expected=171.510000\n",
      "Month=90, Predicted=171.559965, Expected=167.960000\n",
      "Month=91, Predicted=169.291982, Expected=166.970000\n",
      "Month=92, Predicted=167.471105, Expected=167.430000\n",
      "Month=93, Predicted=167.460492, Expected=167.780000\n",
      "Month=94, Predicted=167.846193, Expected=160.500000\n",
      "Month=95, Predicted=163.042596, Expected=156.490000\n",
      "Month=96, Predicted=157.971280, Expected=163.030000\n",
      "Month=97, Predicted=161.087159, Expected=159.540000\n",
      "Month=98, Predicted=160.852509, Expected=155.150000\n",
      "Month=99, Predicted=156.754614, Expected=156.410000\n",
      "Month=100, Predicted=156.180843, Expected=162.710000\n",
      "Month=101, Predicted=160.845054, Expected=164.340000\n",
      "Month=102, Predicted=163.990755, Expected=167.370000\n",
      "Month=103, Predicted=166.566369, Expected=172.990000\n",
      "Month=104, Predicted=171.345755, Expected=172.430000\n",
      "Month=105, Predicted=172.791544, Expected=172.430000\n",
      "Month=106, Predicted=172.609790, Expected=171.850000\n",
      "Month=107, Predicted=172.218035, Expected=171.070000\n",
      "Month=108, Predicted=171.502948, Expected=172.500000\n",
      "Month=109, Predicted=172.215667, Expected=175.500000\n",
      "Month=110, Predicted=174.706106, Expected=178.970000\n",
      "Month=111, Predicted=178.023562, Expected=178.390000\n",
      "Month=112, Predicted=178.758035, Expected=178.120000\n",
      "Month=113, Predicted=178.387421, Expected=175.000000\n",
      "Month=114, Predicted=176.192421, Expected=176.210000\n",
      "Month=115, Predicted=175.997071, Expected=176.820000\n",
      "Month=116, Predicted=176.801807, Expected=176.670000\n",
      "Month=117, Predicted=176.898474, Expected=175.030000\n",
      "Month=118, Predicted=175.742070, Expected=176.940000\n",
      "Month=119, Predicted=176.499878, Expected=179.980000\n",
      "Month=120, Predicted=179.173123, Expected=181.720000\n",
      "Month=121, Predicted=181.335053, Expected=179.970000\n",
      "Month=122, Predicted=180.717772, Expected=178.440000\n",
      "Month=123, Predicted=179.116369, Expected=178.650000\n",
      "Month=124, Predicted=178.761632, Expected=178.020000\n",
      "Month=125, Predicted=178.404263, Expected=175.300000\n",
      "Month=126, Predicted=176.362596, Expected=175.240000\n",
      "Month=127, Predicted=175.439263, Expected=171.270000\n",
      "Month=128, Predicted=172.738298, Expected=168.850000\n",
      "Month=129, Predicted=169.815228, Expected=164.940000\n",
      "Month=130, Predicted=166.388825, Expected=172.770000\n",
      "Month=131, Predicted=170.408475, Expected=168.340000\n",
      "Month=132, Predicted=169.957596, Expected=166.480000\n",
      "Month=133, Predicted=167.263474, Expected=167.780000\n",
      "Month=134, Predicted=167.537860, Expected=167.780000\n",
      "Month=135, Predicted=167.959790, Expected=166.680000\n",
      "Month=136, Predicted=167.216807, Expected=168.390000\n",
      "Month=137, Predicted=168.014790, Expected=171.610000\n",
      "Month=138, Predicted=170.744702, Expected=172.800000\n",
      "Month=139, Predicted=172.593562, Expected=168.380000\n",
      "Month=140, Predicted=169.994351, Expected=170.050000\n",
      "Month=141, Predicted=169.687772, Expected=173.250000\n",
      "Month=142, Predicted=172.391194, Expected=172.440000\n",
      "Month=143, Predicted=172.882684, Expected=174.140000\n",
      "Month=144, Predicted=173.768035, Expected=174.730000\n",
      "Month=145, Predicted=174.718299, Expected=175.820000\n",
      "Month=146, Predicted=175.646018, Expected=178.240000\n",
      "Month=147, Predicted=177.634351, Expected=177.840000\n",
      "Month=148, Predicted=178.149614, Expected=172.800000\n",
      "Month=149, Predicted=174.615579, Expected=165.720000\n",
      "Month=150, Predicted=168.197684, Expected=165.240000\n",
      "Month=151, Predicted=165.575579, Expected=162.940000\n",
      "Month=152, Predicted=163.866281, Expected=163.650000\n",
      "Month=153, Predicted=163.599351, Expected=164.220000\n",
      "Month=154, Predicted=164.214790, Expected=162.320000\n",
      "Month=155, Predicted=163.116456, Expected=165.260000\n",
      "Month=156, Predicted=164.485580, Expected=169.100000\n",
      "Month=157, Predicted=168.033474, Expected=176.570000\n",
      "Month=158, Predicted=174.325317, Expected=176.890000\n",
      "Month=159, Predicted=176.965930, Expected=183.830000\n",
      "Month=160, Predicted=181.757334, Expected=185.160000\n",
      "Month=161, Predicted=184.908123, Expected=186.050000\n",
      "Month=162, Predicted=185.940930, Expected=187.360000\n",
      "Month=163, Predicted=187.114614, Expected=190.040000\n",
      "Month=164, Predicted=189.349965, Expected=188.590000\n",
      "Month=165, Predicted=189.240404, Expected=188.150000\n",
      "Month=166, Predicted=188.472597, Expected=186.440000\n",
      "Month=167, Predicted=187.174790, Expected=188.180000\n",
      "Month=168, Predicted=187.795053, Expected=186.990000\n",
      "Month=169, Predicted=187.556018, Expected=186.310000\n",
      "Month=170, Predicted=186.710491, Expected=187.630000\n",
      "Month=171, Predicted=187.381369, Expected=187.160000\n",
      "Month=172, Predicted=187.492334, Expected=188.360000\n",
      "Month=173, Predicted=188.150316, Expected=188.150000\n",
      "Month=174, Predicted=188.397948, Expected=188.580000\n",
      "Month=175, Predicted=188.620228, Expected=188.580000\n",
      "Month=176, Predicted=188.759790, Expected=187.900000\n",
      "Month=177, Predicted=188.300491, Expected=187.500000\n",
      "Month=178, Predicted=187.809614, Expected=186.870000\n",
      "Test RMSE: 2.587\n"
     ]
    },
    {
     "data": {
      "image/png": "[encoded data removed]",
      "text/plain": [
       "<Figure size 432x288 with 1 Axes>"
      ]
     },
     "metadata": {
      "needs_background": "light"
     },
     "output_type": "display_data"
    }
   ],
   "source": [
    "\n",
    "raw_values = np.array(data_stock)\n",
    "diff_values = difference(raw_values, 1)\n",
    "# modify data to be supervised \n",
    "supervised = series_data_to_supervised_data(diff_values, 1)\n",
    "supervised_values = supervised.values\n",
    "\n",
    "# split data \n",
    "train, test = supervised_values[0:-178], supervised_values[-178:]\n",
    "\n",
    "# modify the scale of the data\n",
    "scaler, train_scaled, test_scaled = scale(train, test)\n",
    " \n",
    "# fit the model\n",
    "cnn_model = fit_cnn(train_scaled, 1, 1, 1)\n",
    "\n",
    "# forecast \n",
    "train_reshaped = train_scaled[:, 0].reshape(len(train_scaled), 1, 1)\n",
    "cnn_model.predict(train_reshaped, batch_size=1)\n",
    " \n",
    "# walk-forward validation on the test data\n",
    "predictions = list()\n",
    "for i in range(len(test_scaled)):\n",
    "\t# make one-step forecast\n",
    "\tX, y = test_scaled[i, 0:-1], test_scaled[i, -1]\n",
    "\tyhat = forecast_cnn(cnn_model, 1, X)\n",
    "\t# invert scaling\n",
    "\tyhat = invert_scale(scaler, X, yhat)\n",
    "  \n",
    "\tyhat = inverse_the_difference(raw_values, yhat, len(test_scaled)-i+1)\n",
    "\t# store forecast\n",
    "\tpredictions.append(yhat)\n",
    "\texpected = raw_values[len(train) + i + 1]\n",
    "\tprint('Month=%d, Predicted=%f, Expected=%f' % (i+1, yhat, expected))\n",
    " \n",
    "\n",
    "##print(\"X and y data : \", X ,\" y = \",y )\n",
    "#print(\"yhat = \", yhat)\n",
    "# report performance\n",
    "rmse = sqrt(mean_squared_error(raw_values[-178:], predictions))\n",
    "print('Test RMSE: %.3f' % rmse)\n",
    "# line plot of observed vs predicted\n",
    "pyplot.plot(raw_values[-178:])\n",
    "pyplot.plot(predictions)\n",
    "pyplot.show()"
   ]
  },
  {
   "cell_type": "markdown",
   "metadata": {
    "id": "F7J1rFPCr0ZD"
   },
   "source": [
    "## Over 15 test rows"
   ]
  },
  {
   "cell_type": "code",
   "execution_count": null,
   "metadata": {
    "colab": {
     "base_uri": "https://localhost:8080/",
     "height": 571
    },
    "id": "KETI2GDfp7Dg",
    "outputId": "6b4ebd41-b0ea-43b6-9b3d-447787f705e8"
   },
   "outputs": [
    {
     "name": "stdout",
     "output_type": "stream",
     "text": [
      "X.shape[1]),  1\n",
      "X.shape[2])  1\n",
      "Month=1, Predicted=191.217670, Expected=188.590000\n",
      "Month=2, Predicted=188.096690, Expected=188.150000\n",
      "Month=3, Predicted=188.065332, Expected=186.440000\n",
      "Month=4, Predicted=185.841496, Expected=188.180000\n",
      "Month=5, Predicted=188.977350, Expected=186.990000\n",
      "Month=6, Predicted=186.601885, Expected=186.310000\n",
      "Month=7, Predicted=186.128229, Expected=187.630000\n",
      "Month=8, Predicted=188.257420, Expected=187.160000\n",
      "Month=9, Predicted=187.063194, Expected=188.360000\n",
      "Month=10, Predicted=188.938869, Expected=188.150000\n",
      "Month=11, Predicted=188.158389, Expected=188.580000\n",
      "Month=12, Predicted=188.847330, Expected=188.580000\n",
      "Month=13, Predicted=188.673354, Expected=187.900000\n",
      "Month=14, Predicted=187.718229, Expected=187.500000\n",
      "Month=15, Predicted=187.431516, Expected=186.870000\n",
      "Test RMSE: 1.317\n"
     ]
    },
    {
     "data": {
      "image/png": "[encoded data removed]",
      "text/plain": [
       "<Figure size 432x288 with 1 Axes>"
      ]
     },
     "metadata": {
      "needs_background": "light"
     },
     "output_type": "display_data"
    }
   ],
   "source": [
    "\n",
    "raw_values = np.array(data_stock)\n",
    "diff_values = difference(raw_values, 1)\n",
    "# modify data to be supervised \n",
    "supervised = series_data_to_supervised_data(diff_values, 1)\n",
    "supervised_values = supervised.values\n",
    "\n",
    "# split data \n",
    "train, test = supervised_values[0:-15], supervised_values[-15:]\n",
    "\n",
    "# modify the scale of the data\n",
    "scaler, train_scaled, test_scaled = scale(train, test)\n",
    " \n",
    "# fit the model\n",
    "cnn_model = fit_cnn(train_scaled, 1, 1, 1)\n",
    "\n",
    "# forecast \n",
    "train_reshaped = train_scaled[:, 0].reshape(len(train_scaled), 1, 1)\n",
    "cnn_model.predict(train_reshaped, batch_size=1)\n",
    " \n",
    "# walk-forward validation on the test data\n",
    "predictions = list()\n",
    "for i in range(len(test_scaled)):\n",
    "\t# make one-step forecast\n",
    "\tX, y = test_scaled[i, 0:-1], test_scaled[i, -1]\n",
    "\tyhat = forecast_cnn(cnn_model, 1, X)\n",
    "\t# invert scaling\n",
    "\tyhat = invert_scale(scaler, X, yhat)\n",
    "  \n",
    "\tyhat = inverse_the_difference(raw_values, yhat, len(test_scaled)-i+1)\n",
    "\t# store forecast\n",
    "\tpredictions.append(yhat)\n",
    "\texpected = raw_values[len(train) + i + 1]\n",
    "\tprint('Month=%d, Predicted=%f, Expected=%f' % (i+1, yhat, expected))\n",
    " \n",
    "\n",
    "##print(\"X and y data : \", X ,\" y = \",y )\n",
    "#print(\"yhat = \", yhat)\n",
    "# report performance\n",
    "rmse = sqrt(mean_squared_error(raw_values[-15:], predictions))\n",
    "print('Test RMSE: %.3f' % rmse)\n",
    "# line plot of observed vs predicted\n",
    "pyplot.plot(raw_values[-15:])\n",
    "pyplot.plot(predictions)\n",
    "pyplot.show()"
   ]
  },
  {
   "cell_type": "markdown",
   "metadata": {
    "id": "XtkWzx73xeO1"
   },
   "source": []
  },
  {
   "cell_type": "markdown",
   "metadata": {
    "id": "TjYy_qD4xei8"
   },
   "source": [
    "# Bi-directional LSTM\n"
   ]
  },
  {
   "cell_type": "code",
   "execution_count": null,
   "metadata": {
    "colab": {
     "base_uri": "https://localhost:8080/",
     "height": 1000
    },
    "id": "ZovE2tTjxei9",
    "outputId": "ebf417b3-26c0-428e-ff6f-b7db19ed27d0"
   },
   "outputs": [
    {
     "name": "stdout",
     "output_type": "stream",
     "text": [
      "X.shape[1]),  1\n",
      "X.shape[2])  1\n",
      "Month=1, Predicted=151.064520, Expected=153.140000\n",
      "Month=2, Predicted=153.332586, Expected=154.230000\n",
      "Month=3, Predicted=154.347810, Expected=153.280000\n",
      "Month=4, Predicted=153.490721, Expected=154.120000\n",
      "Month=5, Predicted=154.269637, Expected=153.810000\n",
      "Month=6, Predicted=154.000115, Expected=154.480000\n",
      "Month=7, Predicted=154.628409, Expected=153.480000\n",
      "Month=8, Predicted=153.715195, Expected=155.390000\n",
      "Month=9, Predicted=155.473713, Expected=155.300000\n",
      "Month=10, Predicted=155.431141, Expected=155.840000\n",
      "Month=11, Predicted=155.960013, Expected=155.900000\n",
      "Month=12, Predicted=156.045648, Expected=156.550000\n",
      "Month=13, Predicted=156.671347, Expected=156.000000\n",
      "Month=14, Predicted=156.187421, Expected=156.990000\n",
      "Month=15, Predicted=157.113332, Expected=159.880000\n",
      "Month=16, Predicted=159.822547, Expected=160.470000\n",
      "Month=17, Predicted=160.463185, Expected=159.760000\n",
      "Month=18, Predicted=159.871461, Expected=155.980000\n",
      "Month=19, Predicted=156.354863, Expected=156.250000\n",
      "Month=20, Predicted=156.545424, Expected=156.170000\n",
      "Month=21, Predicted=156.439966, Expected=157.100000\n",
      "Month=22, Predicted=157.279457, Expected=156.410000\n",
      "Month=23, Predicted=156.645522, Expected=157.410000\n",
      "Month=24, Predicted=157.562862, Expected=163.050000\n",
      "Month=25, Predicted=162.789719, Expected=166.720000\n",
      "Month=26, Predicted=166.383666, Expected=169.040000\n",
      "Month=27, Predicted=168.746305, Expected=166.890000\n",
      "Month=28, Predicted=166.875688, Expected=168.110000\n",
      "Month=29, Predicted=168.094376, Expected=172.500000\n",
      "Month=30, Predicted=172.252509, Expected=174.250000\n",
      "Month=31, Predicted=174.045739, Expected=174.810000\n",
      "Month=32, Predicted=174.710522, Expected=176.240000\n",
      "Month=33, Predicted=176.153965, Expected=175.880000\n",
      "Month=34, Predicted=175.915524, Expected=174.670000\n",
      "Month=35, Predicted=174.841991, Expected=173.970000\n",
      "Month=36, Predicted=174.201849, Expected=171.340000\n",
      "Month=37, Predicted=171.736750, Expected=169.080000\n",
      "Month=38, Predicted=169.569579, Expected=171.100000\n",
      "Month=39, Predicted=171.325791, Expected=170.150000\n",
      "Month=40, Predicted=170.433402, Expected=169.980000\n",
      "Month=41, Predicted=170.249134, Expected=173.140000\n",
      "Month=42, Predicted=173.144579, Expected=174.960000\n",
      "Month=43, Predicted=174.909072, Expected=174.960000\n",
      "Month=44, Predicted=174.996108, Expected=174.970000\n",
      "Month=45, Predicted=175.064558, Expected=174.090000\n",
      "Month=46, Predicted=174.281240, Expected=173.070000\n",
      "Month=47, Predicted=173.336064, Expected=169.480000\n",
      "Month=48, Predicted=169.958525, Expected=171.850000\n",
      "Month=49, Predicted=172.039364, Expected=171.050000\n",
      "Month=50, Predicted=171.298454, Expected=169.800000\n",
      "Month=51, Predicted=170.120458, Expected=169.640000\n",
      "Month=52, Predicted=169.932483, Expected=169.010000\n",
      "Month=53, Predicted=169.317322, Expected=169.320000\n",
      "Month=54, Predicted=169.569371, Expected=169.370000\n",
      "Month=55, Predicted=169.600679, Expected=172.670000\n",
      "Month=56, Predicted=172.641557, Expected=171.700000\n",
      "Month=57, Predicted=171.809716, Expected=172.270000\n",
      "Month=58, Predicted=172.374985, Expected=172.220000\n",
      "Month=59, Predicted=172.363277, Expected=173.970000\n",
      "Month=60, Predicted=174.010360, Expected=176.420000\n",
      "Month=61, Predicted=176.346808, Expected=174.540000\n",
      "Month=62, Predicted=174.672592, Expected=174.350000\n",
      "Month=63, Predicted=174.522110, Expected=175.010000\n",
      "Month=64, Predicted=175.147515, Expected=175.010000\n",
      "Month=65, Predicted=175.171115, Expected=175.010000\n",
      "Month=66, Predicted=175.186761, Expected=170.570000\n",
      "Month=67, Predicted=171.028397, Expected=170.600000\n",
      "Month=68, Predicted=170.967260, Expected=171.080000\n",
      "Month=69, Predicted=171.354834, Expected=169.230000\n",
      "Month=70, Predicted=169.607480, Expected=169.230000\n",
      "Month=71, Predicted=169.547868, Expected=172.260000\n",
      "Month=72, Predicted=172.302656, Expected=172.230000\n",
      "Month=73, Predicted=172.328758, Expected=173.030000\n",
      "Month=74, Predicted=173.111503, Expected=175.000000\n",
      "Month=75, Predicted=174.986787, Expected=174.350000\n",
      "Month=76, Predicted=174.452135, Expected=174.330000\n",
      "Month=77, Predicted=174.470038, Expected=174.290000\n",
      "Month=78, Predicted=174.455759, Expected=175.280000\n",
      "Month=79, Predicted=175.389675, Expected=177.090000\n",
      "Month=80, Predicted=177.105192, Expected=177.090000\n",
      "Month=81, Predicted=177.170072, Expected=176.190000\n",
      "Month=82, Predicted=176.372706, Expected=179.100000\n",
      "Month=83, Predicted=179.075294, Expected=179.260000\n",
      "Month=84, Predicted=179.302431, Expected=178.460000\n",
      "Month=85, Predicted=178.610788, Expected=177.000000\n",
      "Month=86, Predicted=177.267051, Expected=177.040000\n",
      "Month=87, Predicted=177.282910, Expected=174.220000\n",
      "Month=88, Predicted=174.636023, Expected=171.110000\n",
      "Month=89, Predicted=171.668236, Expected=171.510000\n",
      "Month=90, Predicted=171.912039, Expected=167.960000\n",
      "Month=91, Predicted=168.534726, Expected=166.970000\n",
      "Month=92, Predicted=167.492375, Expected=167.430000\n",
      "Month=93, Predicted=167.805496, Expected=167.780000\n",
      "Month=94, Predicted=168.070020, Expected=160.500000\n",
      "Month=95, Predicted=161.177380, Expected=156.490000\n",
      "Month=96, Predicted=157.297061, Expected=163.030000\n",
      "Month=97, Predicted=162.998797, Expected=159.540000\n",
      "Month=98, Predicted=159.774700, Expected=155.150000\n",
      "Month=99, Predicted=155.652554, Expected=156.410000\n",
      "Month=100, Predicted=156.712565, Expected=162.710000\n",
      "Month=101, Predicted=162.465786, Expected=164.340000\n",
      "Month=102, Predicted=164.140016, Expected=167.370000\n",
      "Month=103, Predicted=167.116658, Expected=172.990000\n",
      "Month=104, Predicted=172.529833, Expected=172.430000\n",
      "Month=105, Predicted=172.206157, Expected=172.430000\n",
      "Month=106, Predicted=172.355662, Expected=171.850000\n",
      "Month=107, Predicted=171.908519, Expected=171.070000\n",
      "Month=108, Predicted=171.230991, Expected=172.500000\n",
      "Month=109, Predicted=172.574998, Expected=175.500000\n",
      "Month=110, Predicted=175.406453, Expected=178.970000\n",
      "Month=111, Predicted=178.745439, Expected=178.390000\n",
      "Month=112, Predicted=178.340630, Expected=178.120000\n",
      "Month=113, Predicted=178.176777, Expected=175.000000\n",
      "Month=114, Predicted=175.298411, Expected=176.210000\n",
      "Month=115, Predicted=176.386049, Expected=176.820000\n",
      "Month=116, Predicted=176.963145, Expected=176.670000\n",
      "Month=117, Predicted=176.845094, Expected=175.030000\n",
      "Month=118, Predicted=175.325058, Expected=176.940000\n",
      "Month=119, Predicted=177.059377, Expected=179.980000\n",
      "Month=120, Predicted=179.908553, Expected=181.720000\n",
      "Month=121, Predicted=181.628021, Expected=179.970000\n",
      "Month=122, Predicted=180.082512, Expected=178.440000\n",
      "Month=123, Predicted=178.685794, Expected=178.650000\n",
      "Month=124, Predicted=178.867169, Expected=178.020000\n",
      "Month=125, Predicted=178.276972, Expected=175.300000\n",
      "Month=126, Predicted=175.720177, Expected=175.240000\n",
      "Month=127, Predicted=175.589406, Expected=171.270000\n",
      "Month=128, Predicted=171.831380, Expected=168.850000\n",
      "Month=129, Predicted=169.465960, Expected=164.940000\n",
      "Month=130, Predicted=165.693593, Expected=172.770000\n",
      "Month=131, Predicted=172.577669, Expected=168.340000\n",
      "Month=132, Predicted=168.491560, Expected=166.480000\n",
      "Month=133, Predicted=166.780171, Expected=167.780000\n",
      "Month=134, Predicted=167.952918, Expected=167.780000\n",
      "Month=135, Predicted=167.963856, Expected=166.680000\n",
      "Month=136, Predicted=166.946276, Expected=168.390000\n",
      "Month=137, Predicted=168.508424, Expected=171.610000\n",
      "Month=138, Predicted=171.524408, Expected=172.800000\n",
      "Month=139, Predicted=172.735411, Expected=168.380000\n",
      "Month=140, Predicted=168.651222, Expected=170.050000\n",
      "Month=141, Predicted=170.176010, Expected=173.250000\n",
      "Month=142, Predicted=173.170276, Expected=172.440000\n",
      "Month=143, Predicted=172.504541, Expected=174.140000\n",
      "Month=144, Predicted=174.137273, Expected=174.730000\n",
      "Month=145, Predicted=174.759641, Expected=175.820000\n",
      "Month=146, Predicted=175.837280, Expected=178.240000\n",
      "Month=147, Predicted=178.155749, Expected=177.840000\n",
      "Month=148, Predicted=177.878154, Expected=172.800000\n",
      "Month=149, Predicted=173.181979, Expected=165.720000\n",
      "Month=150, Predicted=166.464819, Expected=165.240000\n",
      "Month=151, Predicted=165.836280, Expected=162.940000\n",
      "Month=152, Predicted=163.572227, Expected=163.650000\n",
      "Month=153, Predicted=164.075842, Expected=164.220000\n",
      "Month=154, Predicted=164.525243, Expected=162.320000\n",
      "Month=155, Predicted=162.721556, Expected=165.260000\n",
      "Month=156, Predicted=165.358973, Expected=169.100000\n",
      "Month=157, Predicted=168.954971, Expected=176.570000\n",
      "Month=158, Predicted=176.027347, Expected=176.890000\n",
      "Month=159, Predicted=176.557816, Expected=183.830000\n",
      "Month=160, Predicted=183.247652, Expected=185.160000\n",
      "Month=161, Predicted=184.751351, Expected=186.050000\n",
      "Month=162, Predicted=185.799011, Expected=187.360000\n",
      "Month=163, Predicted=187.186606, Expected=190.040000\n",
      "Month=164, Predicted=189.825588, Expected=188.590000\n",
      "Month=165, Predicted=188.596960, Expected=188.150000\n",
      "Month=166, Predicted=188.255795, Expected=186.440000\n",
      "Month=167, Predicted=186.691430, Expected=188.180000\n",
      "Month=168, Predicted=188.286500, Expected=186.990000\n",
      "Month=169, Predicted=187.208160, Expected=186.310000\n",
      "Month=170, Predicted=186.571465, Expected=187.630000\n",
      "Month=171, Predicted=187.774641, Expected=187.160000\n",
      "Month=172, Predicted=187.357319, Expected=188.360000\n",
      "Month=173, Predicted=188.474197, Expected=188.150000\n",
      "Month=174, Predicted=188.309750, Expected=188.580000\n",
      "Month=175, Predicted=188.726009, Expected=188.580000\n",
      "Month=176, Predicted=188.746759, Expected=187.900000\n",
      "Month=177, Predicted=188.126709, Expected=187.500000\n",
      "Month=178, Predicted=187.747621, Expected=186.870000\n",
      "\n",
      " Test RMSE: 2.407\n"
     ]
    },
    {
     "data": {
      "image/png": "[encoded data removed]",
      "text/plain": [
       "<Figure size 432x288 with 1 Axes>"
      ]
     },
     "metadata": {
      "needs_background": "light"
     },
     "output_type": "display_data"
    }
   ],
   "source": [
    "\n",
    "raw_values = np.array(data_stock)\n",
    "diff_values = difference(raw_values, 1)\n",
    "# modify data to be supervised \n",
    "supervised = series_data_to_supervised_data(diff_values, 1)\n",
    "supervised_values = supervised.values\n",
    "\n",
    "# split data \n",
    "train, test = supervised_values[0:-178], supervised_values[-178:]\n",
    "\n",
    "# modify the scale of the data\n",
    "scaler, train_scaled, test_scaled = scale(train, test)\n",
    " \n",
    "# fit the model\n",
    "bilstm_model = fit_bilstm(train_scaled, 1, 1, 1)\n",
    "\n",
    "# forecast \n",
    "train_reshaped = train_scaled[:, 0].reshape(len(train_scaled), 1, 1)\n",
    "bilstm_model.predict(train_reshaped, batch_size=1)\n",
    " \n",
    "# walk-forward validation on the test data\n",
    "predictions = list()\n",
    "for i in range(len(test_scaled)):\n",
    "\t# make one-step forecast\n",
    "\tX, y = test_scaled[i, 0:-1], test_scaled[i, -1]\n",
    "\tyhat = forecast_bilstm(bilstm_model, 1, X)\n",
    "\t# invert scaling\n",
    "\tyhat = invert_scale(scaler, X, yhat)\n",
    "  \n",
    "\tyhat = inverse_the_difference(raw_values, yhat, len(test_scaled)-i+1)\n",
    "\t# store forecast\n",
    "\tpredictions.append(yhat)\n",
    "\texpected = raw_values[len(train) + i + 1]\n",
    "\tprint('Month=%d, Predicted=%f, Expected=%f' % (i+1, yhat, expected))\n",
    " \n",
    "\n",
    "##print(\"X and y data : \", X ,\" y = \",y )\n",
    "#print(\"yhat = \", yhat)\n",
    "# report performance\n",
    "rmse = sqrt(mean_squared_error(raw_values[-178:], predictions))\n",
    "print('\\n Test RMSE: %.3f' % rmse)\n",
    "# line plot of observed vs predicted\n",
    "pyplot.plot(raw_values[-178:])\n",
    "pyplot.plot(predictions)\n",
    "pyplot.show()"
   ]
  },
  {
   "cell_type": "markdown",
   "metadata": {
    "id": "VwtX52p-xei-"
   },
   "source": [
    "## Over 15 test rows"
   ]
  },
  {
   "cell_type": "code",
   "execution_count": null,
   "metadata": {
    "colab": {
     "base_uri": "https://localhost:8080/",
     "height": 503
    },
    "id": "VsYJcUJTxei-",
    "outputId": "0389cfcc-f0c6-4721-8b34-9d5a1c511df3"
   },
   "outputs": [
    {
     "name": "stdout",
     "output_type": "stream",
     "text": [
      "X.shape[1]),  1\n",
      "X.shape[2])  1\n",
      "Month=1, Predicted=187.122037, Expected=186.310000\n",
      "Month=2, Predicted=186.437226, Expected=187.630000\n",
      "Month=3, Predicted=187.777058, Expected=187.160000\n",
      "Month=4, Predicted=187.299754, Expected=188.360000\n",
      "Month=5, Predicted=188.513399, Expected=188.150000\n",
      "Month=6, Predicted=188.295878, Expected=188.580000\n",
      "Month=7, Predicted=188.728471, Expected=188.580000\n",
      "Month=8, Predicted=188.725417, Expected=187.900000\n",
      "Month=9, Predicted=188.036135, Expected=187.500000\n",
      "Month=10, Predicted=187.633219, Expected=186.870000\n",
      "\n",
      " Test RMSE: 0.733\n"
     ]
    },
    {
     "data": {
      "image/png": "[encoded data removed]",
      "text/plain": [
       "<Figure size 432x288 with 1 Axes>"
      ]
     },
     "metadata": {
      "needs_background": "light"
     },
     "output_type": "display_data"
    }
   ],
   "source": [
    "\n",
    "raw_values = np.array(data_stock)\n",
    "diff_values = difference(raw_values, 1)\n",
    "# modify data to be supervised \n",
    "supervised = series_data_to_supervised_data(diff_values, 1)\n",
    "supervised_values = supervised.values\n",
    "\n",
    "# split data \n",
    "train, test = supervised_values[0:-10], supervised_values[-10:]\n",
    "\n",
    "# modify the scale of the data\n",
    "scaler, train_scaled, test_scaled = scale(train, test)\n",
    " \n",
    "# fit the model\n",
    "bilstm_model = fit_bilstm(train_scaled, 1, 1, 1)\n",
    "\n",
    "# forecast \n",
    "train_reshaped = train_scaled[:, 0].reshape(len(train_scaled), 1, 1)\n",
    "bilstm_model.predict(train_reshaped, batch_size=1)\n",
    " \n",
    "# walk-forward validation on the test data\n",
    "predictions = list()\n",
    "for i in range(len(test_scaled)):\n",
    "\t# make one-step forecast\n",
    "\tX, y = test_scaled[i, 0:-1], test_scaled[i, -1]\n",
    "\tyhat = forecast_bilstm(bilstm_model, 1, X)\n",
    "\t# invert scaling\n",
    "\tyhat = invert_scale(scaler, X, yhat)\n",
    "  \n",
    "\tyhat = inverse_the_difference(raw_values, yhat, len(test_scaled)-i+1)\n",
    "\t# store forecast\n",
    "\tpredictions.append(yhat)\n",
    "\texpected = raw_values[len(train) + i + 1]\n",
    "\tprint('Month=%d, Predicted=%f, Expected=%f' % (i+1, yhat, expected))\n",
    " \n",
    "\n",
    "##print(\"X and y data : \", X ,\" y = \",y )\n",
    "#print(\"yhat = \", yhat)\n",
    "# report performance\n",
    "rmse = sqrt(mean_squared_error(raw_values[-10:], predictions))\n",
    "print('\\n Test RMSE: %.3f' % rmse)\n",
    "# line plot of observed vs predicted\n",
    "pyplot.plot(raw_values[-10:])\n",
    "pyplot.plot(predictions)\n",
    "pyplot.show()"
   ]
  },
  {
   "cell_type": "markdown",
   "metadata": {
    "id": "PwGI2T2pWwU4"
   },
   "source": [
    "# Arima Model"
   ]
  },
  {
   "cell_type": "code",
   "execution_count": null,
   "metadata": {
    "colab": {
     "base_uri": "https://localhost:8080/"
    },
    "id": "NUqefMfIq9VS",
    "outputId": "6370eaae-6fe9-4597-faec-fa927ac0d3bc"
   },
   "outputs": [
    {
     "name": "stdout",
     "output_type": "stream",
     "text": [
      "Requirement already satisfied: statsmodels in /usr/local/lib/python3.7/dist-packages (0.10.2)\n",
      "Requirement already satisfied: patsy>=0.4.0 in /usr/local/lib/python3.7/dist-packages (from statsmodels) (0.5.1)\n",
      "Requirement already satisfied: scipy>=0.18 in /usr/local/lib/python3.7/dist-packages (from statsmodels) (1.4.1)\n",
      "Requirement already satisfied: pandas>=0.19 in /usr/local/lib/python3.7/dist-packages (from statsmodels) (1.1.5)\n",
      "Requirement already satisfied: numpy>=1.11 in /usr/local/lib/python3.7/dist-packages (from statsmodels) (1.19.5)\n",
      "Requirement already satisfied: python-dateutil>=2.7.3 in /usr/local/lib/python3.7/dist-packages (from pandas>=0.19->statsmodels) (2.8.2)\n",
      "Requirement already satisfied: pytz>=2017.2 in /usr/local/lib/python3.7/dist-packages (from pandas>=0.19->statsmodels) (2018.9)\n",
      "Requirement already satisfied: six in /usr/local/lib/python3.7/dist-packages (from patsy>=0.4.0->statsmodels) (1.15.0)\n"
     ]
    }
   ],
   "source": [
    "pip install statsmodels"
   ]
  },
  {
   "cell_type": "code",
   "execution_count": null,
   "metadata": {
    "id": "rMWlaBIhvW7_"
   },
   "outputs": [],
   "source": [
    "import numpy as np\n",
    "data_stock_np = np.array(data_stock)"
   ]
  },
  {
   "cell_type": "code",
   "execution_count": null,
   "metadata": {
    "id": "DuQkDwZmprFE"
   },
   "outputs": [],
   "source": [
    "from statsmodels.tsa.arima_model import ARIMA\n",
    "import statsmodels.api as sm\n",
    "import numpy as np\n",
    "from matplotlib import pyplot\n",
    "\n",
    "#data = data[['Date']]\n",
    "data = np.asarray(data_stock_np)\n",
    "\n"
   ]
  },
  {
   "cell_type": "code",
   "execution_count": null,
   "metadata": {
    "colab": {
     "base_uri": "https://localhost:8080/",
     "height": 1000
    },
    "id": "h5tGsp8AvKxY",
    "outputId": "02c2a0b8-ef43-4299-8bf9-03877c53a4c6"
   },
   "outputs": [
    {
     "name": "stderr",
     "output_type": "stream",
     "text": [
      "/usr/local/lib/python3.7/dist-packages/statsmodels/base/model.py:512: ConvergenceWarning: Maximum Likelihood optimization failed to converge. Check mle_retvals\n",
      "  \"Check mle_retvals\", ConvergenceWarning)\n"
     ]
    },
    {
     "name": "stdout",
     "output_type": "stream",
     "text": [
      "                             ARIMA Model Results                              \n",
      "==============================================================================\n",
      "Dep. Variable:                    D.y   No. Observations:                  890\n",
      "Model:                 ARIMA(5, 1, 5)   Log Likelihood               -1800.281\n",
      "Method:                       css-mle   S.D. of innovations              1.826\n",
      "Date:                Sun, 05 Sep 2021   AIC                           3624.562\n",
      "Time:                        05:29:19   BIC                           3682.056\n",
      "Sample:                             1   HQIC                          3646.537\n",
      "                                                                              \n",
      "==============================================================================\n",
      "                 coef    std err          z      P>|z|      [0.025      0.975]\n",
      "------------------------------------------------------------------------------\n",
      "const          0.0862      0.062      1.393      0.164      -0.035       0.208\n",
      "ar.L1.D.y      0.0238      0.051      0.471      0.638      -0.075       0.123\n",
      "ar.L2.D.y     -0.0417      0.056     -0.743      0.458      -0.152       0.068\n",
      "ar.L3.D.y     -0.0763      0.047     -1.619      0.106      -0.169       0.016\n",
      "ar.L4.D.y     -0.0505      0.052     -0.968      0.333      -0.153       0.052\n",
      "ar.L5.D.y     -0.9234      0.048    -19.390      0.000      -1.017      -0.830\n",
      "ma.L1.D.y      0.0073      0.056      0.130      0.896      -0.102       0.117\n",
      "ma.L2.D.y      0.0074      0.057      0.130      0.897      -0.105       0.120\n",
      "ma.L3.D.y      0.0818      0.047      1.751      0.080      -0.010       0.173\n",
      "ma.L4.D.y      0.0860      0.057      1.521      0.129      -0.025       0.197\n",
      "ma.L5.D.y      0.9089      0.048     19.095      0.000       0.816       1.002\n",
      "                                    Roots                                    \n",
      "=============================================================================\n",
      "                  Real          Imaginary           Modulus         Frequency\n",
      "-----------------------------------------------------------------------------\n",
      "AR.1            0.7938           -0.6093j            1.0007           -0.1042\n",
      "AR.2            0.7938           +0.6093j            1.0007            0.1042\n",
      "AR.3           -1.0244           -0.0000j            1.0244           -0.5000\n",
      "AR.4           -0.3090           -0.9799j            1.0274           -0.2986\n",
      "AR.5           -0.3090           +0.9799j            1.0274            0.2986\n",
      "MA.1            0.7921           -0.6108j            1.0003           -0.1045\n",
      "MA.2            0.7921           +0.6108j            1.0003            0.1045\n",
      "MA.3           -1.0206           -0.0000j            1.0206           -0.5000\n",
      "MA.4           -0.3291           -0.9844j            1.0380           -0.3013\n",
      "MA.5           -0.3291           +0.9844j            1.0380            0.3013\n",
      "-----------------------------------------------------------------------------\n"
     ]
    },
    {
     "data": {
      "image/png": "[encoded data removed]",
      "text/plain": [
       "<Figure size 432x288 with 1 Axes>"
      ]
     },
     "metadata": {
      "needs_background": "light"
     },
     "output_type": "display_data"
    },
    {
     "data": {
      "image/png": "[encoded data removed]",
      "text/plain": [
       "<Figure size 432x288 with 1 Axes>"
      ]
     },
     "metadata": {
      "needs_background": "light"
     },
     "output_type": "display_data"
    },
    {
     "name": "stdout",
     "output_type": "stream",
     "text": [
      "                0\n",
      "count  890.000000\n",
      "mean    -0.000503\n",
      "std      1.830216\n",
      "min     -7.101085\n",
      "25%     -0.835823\n",
      "50%     -0.046468\n",
      "75%      0.899095\n",
      "max      7.253877\n"
     ]
    }
   ],
   "source": [
    "model = ARIMA(data, order=(5,1,5))\n",
    "\n",
    "model_fit = model.fit()\n",
    "# summary of fit model\n",
    "print(model_fit.summary())\n",
    "# line plot of residuals\n",
    "residuals = pd.DataFrame(model_fit.resid)\n",
    "residuals.plot()\n",
    "pyplot.show()\n",
    "# density plot of residuals\n",
    "residuals.plot(kind='kde')\n",
    "pyplot.show()\n",
    "# summary stats of residuals\n",
    "print(residuals.describe())"
   ]
  },
  {
   "cell_type": "code",
   "execution_count": null,
   "metadata": {
    "colab": {
     "base_uri": "https://localhost:8080/",
     "height": 1000
    },
    "id": "B5mtC4MjpvZy",
    "outputId": "35d1587f-78aa-4017-8749-567576027fb2"
   },
   "outputs": [
    {
     "name": "stdout",
     "output_type": "stream",
     "text": [
      "predicted=143.668427, expected=144.770000\n",
      "predicted=144.848507, expected=144.020000\n",
      "predicted=144.041763, expected=143.660000\n",
      "predicted=143.708148, expected=143.340000\n",
      "predicted=143.440746, expected=143.170000\n",
      "predicted=143.223347, expected=141.630000\n",
      "predicted=141.721748, expected=141.800000\n",
      "predicted=141.941867, expected=141.050000\n",
      "predicted=141.175994, expected=141.050000\n",
      "predicted=141.139854, expected=141.830000\n",
      "predicted=141.989761, expected=141.200000\n",
      "predicted=141.219114, expected=140.680000\n",
      "predicted=140.746489, expected=142.440000\n",
      "predicted=142.563760, expected=142.270000\n",
      "predicted=142.257909, expected=143.640000\n",
      "predicted=143.669840, expected=144.530000\n",
      "predicted=144.570777, expected=143.680000\n",
      "predicted=143.575383, expected=143.790000\n",
      "predicted=143.843177, expected=143.650000\n",
      "predicted=143.686802, expected=146.580000\n",
      "predicted=146.651004, expected=147.510000\n",
      "predicted=147.516035, expected=147.060000\n",
      "predicted=146.952075, expected=146.530000\n",
      "predicted=146.552823, expected=148.960000\n",
      "predicted=148.996149, expected=153.010000\n",
      "predicted=153.057229, expected=153.990000\n",
      "predicted=153.832326, expected=153.260000\n",
      "predicted=153.111973, expected=153.950000\n",
      "predicted=153.967787, expected=156.100000\n",
      "predicted=156.136773, expected=155.700000\n",
      "predicted=155.626971, expected=155.470000\n",
      "predicted=155.491207, expected=150.250000\n",
      "predicted=150.241883, expected=152.540000\n",
      "predicted=152.808223, expected=153.060000\n",
      "predicted=153.321968, expected=153.990000\n",
      "predicted=153.905343, expected=153.800000\n",
      "predicted=153.942029, expected=153.340000\n",
      "predicted=153.325999, expected=153.870000\n",
      "predicted=153.977749, expected=153.610000\n",
      "predicted=153.666798, expected=153.610000\n",
      "predicted=153.668649, expected=153.670000\n",
      "predicted=153.772655, expected=152.760000\n",
      "predicted=152.808297, expected=153.180000\n",
      "predicted=153.297151, expected=155.450000\n",
      "predicted=155.589122, expected=153.930000\n",
      "predicted=153.868899, expected=154.450000\n",
      "predicted=154.496168, expected=155.370000\n",
      "predicted=155.518550, expected=154.990000\n",
      "predicted=154.946985, expected=148.980000\n",
      "predicted=148.990890, expected=145.420000\n",
      "predicted=145.668155, expected=146.590000\n",
      "predicted=147.133553, expected=145.160000\n",
      "predicted=145.244458, expected=144.290000\n",
      "predicted=144.433193, expected=142.270000\n",
      "predicted=142.459018, expected=146.340000\n",
      "predicted=146.547765, expected=145.010000\n",
      "predicted=144.997909, expected=145.870000\n",
      "predicted=145.770685, expected=145.630000\n",
      "predicted=145.864543, expected=146.280000\n",
      "predicted=146.173672, expected=145.820000\n",
      "predicted=145.917529, expected=143.730000\n",
      "predicted=143.710131, expected=145.830000\n",
      "predicted=146.042887, expected=143.680000\n",
      "predicted=143.712184, expected=144.020000\n",
      "predicted=144.021282, expected=143.500000\n",
      "predicted=143.742316, expected=143.500000\n",
      "predicted=143.459288, expected=144.090000\n",
      "predicted=144.235329, expected=142.730000\n",
      "predicted=142.731402, expected=144.180000\n",
      "predicted=144.278399, expected=145.060000\n",
      "predicted=145.151083, expected=145.530000\n",
      "predicted=145.449559, expected=145.740000\n",
      "predicted=145.798870, expected=147.770000\n",
      "predicted=147.806127, expected=149.040000\n",
      "predicted=149.026766, expected=149.560000\n",
      "predicted=149.483828, expected=150.080000\n",
      "predicted=150.113900, expected=151.020000\n",
      "predicted=151.040695, expected=150.340000\n",
      "predicted=150.324196, expected=150.270000\n",
      "predicted=150.313185, expected=152.090000\n",
      "predicted=152.221508, expected=152.740000\n",
      "predicted=152.719149, expected=153.460000\n",
      "predicted=153.445109, expected=150.560000\n",
      "predicted=150.580423, expected=149.500000\n",
      "predicted=149.593903, expected=148.730000\n",
      "predicted=148.962140, expected=150.050000\n",
      "predicted=150.130009, expected=157.140000\n",
      "predicted=157.367169, expected=155.570000\n",
      "predicted=155.287427, expected=156.390000\n",
      "predicted=156.174637, expected=158.810000\n",
      "predicted=159.022908, expected=160.080000\n",
      "predicted=159.904012, expected=161.060000\n",
      "predicted=161.033305, expected=155.320000\n",
      "predicted=155.262660, expected=157.480000\n",
      "predicted=157.731524, expected=159.850000\n",
      "predicted=160.137877, expected=161.600000\n",
      "predicted=161.370445, expected=160.950000\n",
      "predicted=160.887798, expected=157.860000\n",
      "predicted=157.893318, expected=157.500000\n",
      "predicted=157.785391, expected=157.210000\n",
      "predicted=157.469422, expected=159.780000\n",
      "predicted=159.861692, expected=159.980000\n",
      "predicted=159.939912, expected=159.270000\n",
      "predicted=159.171414, expected=159.860000\n",
      "predicted=159.996705, expected=161.470000\n",
      "predicted=161.597599, expected=162.910000\n",
      "predicted=162.886521, expected=163.350000\n",
      "predicted=163.279888, expected=164.000000\n",
      "predicted=164.016007, expected=164.050000\n",
      "predicted=164.115761, expected=164.050000\n",
      "predicted=164.111305, expected=162.080000\n",
      "predicted=162.152528, expected=161.910000\n",
      "predicted=162.080112, expected=161.260000\n",
      "predicted=161.457192, expected=158.630000\n",
      "predicted=158.681570, expected=161.500000\n",
      "predicted=161.735900, expected=160.860000\n",
      "predicted=160.950511, expected=159.650000\n",
      "predicted=159.548765, expected=158.280000\n",
      "predicted=158.456884, expected=159.880000\n",
      "predicted=160.102287, expected=158.670000\n",
      "predicted=158.720756, expected=158.730000\n",
      "predicted=158.737807, expected=156.070000\n",
      "predicted=156.218618, expected=153.390000\n",
      "predicted=153.531694, expected=151.890000\n",
      "predicted=152.186198, expected=150.550000\n",
      "predicted=150.744066, expected=153.140000\n",
      "predicted=153.307095, expected=154.230000\n",
      "predicted=154.242509, expected=153.280000\n",
      "predicted=153.108250, expected=154.120000\n",
      "predicted=154.200788, expected=153.810000\n",
      "predicted=153.925122, expected=154.480000\n",
      "predicted=154.512678, expected=153.480000\n",
      "predicted=153.530659, expected=155.390000\n",
      "predicted=155.476178, expected=155.300000\n",
      "predicted=155.356185, expected=155.840000\n",
      "predicted=155.793947, expected=155.900000\n",
      "predicted=155.975826, expected=156.550000\n",
      "predicted=156.600741, expected=156.000000\n",
      "predicted=156.042224, expected=156.990000\n",
      "predicted=157.054936, expected=159.880000\n",
      "predicted=159.983949, expected=160.470000\n",
      "predicted=160.373493, expected=159.760000\n",
      "predicted=159.649012, expected=155.980000\n",
      "predicted=156.048294, expected=156.250000\n",
      "predicted=156.550249, expected=156.170000\n",
      "predicted=156.453652, expected=157.100000\n",
      "predicted=157.102750, expected=156.410000\n",
      "predicted=156.416942, expected=157.410000\n",
      "predicted=157.457823, expected=163.050000\n",
      "predicted=163.213921, expected=166.720000\n",
      "predicted=166.582592, expected=169.040000\n",
      "predicted=168.728777, expected=166.890000\n",
      "predicted=166.694085, expected=168.110000\n",
      "predicted=168.267691, expected=172.500000\n",
      "predicted=172.909271, expected=174.250000\n",
      "predicted=174.131478, expected=174.810000\n",
      "predicted=174.577293, expected=176.240000\n",
      "predicted=176.407102, expected=175.880000\n",
      "predicted=176.012002, expected=174.670000\n",
      "predicted=174.699801, expected=173.970000\n",
      "predicted=174.150133, expected=171.340000\n",
      "predicted=171.449956, expected=169.080000\n",
      "predicted=169.176889, expected=171.100000\n",
      "predicted=171.444192, expected=170.150000\n",
      "predicted=170.176499, expected=169.980000\n",
      "predicted=169.883472, expected=173.140000\n",
      "predicted=173.396804, expected=174.960000\n",
      "predicted=174.991749, expected=174.960000\n",
      "predicted=174.801394, expected=174.970000\n",
      "predicted=175.036884, expected=174.090000\n",
      "predicted=174.216941, expected=173.070000\n",
      "predicted=173.168324, expected=169.480000\n",
      "predicted=169.518919, expected=171.850000\n",
      "predicted=172.178640, expected=171.050000\n",
      "predicted=171.188743, expected=169.800000\n",
      "predicted=169.665491, expected=169.640000\n",
      "predicted=169.837783, expected=169.010000\n",
      "predicted=169.137247, expected=169.320000\n",
      "predicted=169.407709, expected=169.370000\n",
      "predicted=169.459557, expected=172.670000\n",
      "predicted=172.822345, expected=171.700000\n",
      "predicted=171.636013, expected=172.270000\n",
      "predicted=172.235317, expected=172.220000\n",
      "predicted=172.404240, expected=173.970000\n",
      "predicted=174.069104, expected=176.420000\n",
      "predicted=176.528282, expected=174.540000\n",
      "predicted=174.397208, expected=174.350000\n",
      "predicted=174.410189, expected=175.010000\n",
      "predicted=175.289790, expected=175.010000\n",
      "predicted=175.060874, expected=175.010000\n",
      "predicted=175.041360, expected=170.570000\n",
      "predicted=170.538163, expected=170.600000\n",
      "predicted=170.851473, expected=171.080000\n",
      "predicted=171.403562, expected=169.230000\n",
      "predicted=169.134934, expected=169.230000\n",
      "predicted=169.295701, expected=172.260000\n",
      "predicted=172.524274, expected=172.230000\n",
      "predicted=172.151254, expected=173.030000\n",
      "predicted=172.979389, expected=175.000000\n",
      "predicted=175.176331, expected=174.350000\n",
      "predicted=174.319665, expected=174.330000\n",
      "predicted=174.367846, expected=174.290000\n",
      "predicted=174.447737, expected=175.280000\n",
      "predicted=175.391983, expected=177.090000\n",
      "predicted=177.185109, expected=177.090000\n",
      "predicted=177.060317, expected=176.190000\n",
      "predicted=176.189498, expected=179.100000\n",
      "predicted=179.349944, expected=179.260000\n",
      "predicted=179.288547, expected=178.460000\n",
      "predicted=178.376818, expected=177.000000\n",
      "predicted=177.132382, expected=177.040000\n",
      "predicted=177.245572, expected=174.220000\n",
      "predicted=174.269810, expected=171.110000\n",
      "predicted=171.162338, expected=171.510000\n",
      "predicted=171.837361, expected=167.960000\n",
      "predicted=167.957254, expected=166.970000\n",
      "predicted=167.024859, expected=167.430000\n",
      "predicted=167.668417, expected=167.780000\n",
      "predicted=167.797310, expected=160.500000\n",
      "predicted=160.256127, expected=156.490000\n",
      "predicted=156.637347, expected=163.030000\n",
      "predicted=163.781335, expected=159.540000\n",
      "predicted=159.011484, expected=155.150000\n",
      "predicted=154.974475, expected=156.410000\n",
      "predicted=157.092288, expected=162.710000\n",
      "predicted=162.675714, expected=164.340000\n",
      "predicted=163.758439, expected=167.370000\n",
      "predicted=167.445878, expected=172.990000\n",
      "predicted=173.447220, expected=172.430000\n",
      "predicted=172.086665, expected=172.430000\n",
      "predicted=172.640019, expected=171.850000\n",
      "predicted=172.135794, expected=171.070000\n",
      "predicted=170.999157, expected=172.500000\n",
      "predicted=172.693754, expected=175.500000\n",
      "predicted=175.596093, expected=178.970000\n",
      "predicted=178.998083, expected=178.390000\n",
      "predicted=178.298892, expected=178.120000\n",
      "predicted=178.314263, expected=175.000000\n",
      "predicted=175.053578, expected=176.210000\n",
      "predicted=176.437015, expected=176.820000\n",
      "predicted=176.894101, expected=176.670000\n",
      "predicted=176.552737, expected=175.030000\n",
      "predicted=175.152747, expected=176.940000\n",
      "predicted=177.207977, expected=179.980000\n",
      "predicted=180.085486, expected=181.720000\n",
      "predicted=181.597682, expected=179.970000\n",
      "predicted=179.946269, expected=178.440000\n",
      "predicted=178.646180, expected=178.650000\n",
      "predicted=178.897800, expected=178.020000\n",
      "predicted=177.964052, expected=175.300000\n",
      "predicted=175.243847, expected=175.240000\n",
      "predicted=175.538774, expected=171.270000\n",
      "predicted=171.157060, expected=168.850000\n",
      "predicted=168.899602, expected=164.940000\n",
      "predicted=165.003345, expected=172.770000\n",
      "predicted=173.252319, expected=168.340000\n",
      "predicted=167.911802, expected=166.480000\n",
      "predicted=166.392473, expected=167.780000\n",
      "predicted=168.636889, expected=167.780000\n",
      "predicted=167.356594, expected=166.680000\n",
      "predicted=166.693746, expected=168.390000\n",
      "predicted=168.702022, expected=171.610000\n",
      "predicted=171.661672, expected=172.800000\n",
      "predicted=172.640783, expected=168.380000\n",
      "predicted=168.325119, expected=170.050000\n",
      "predicted=170.579146, expected=173.250000\n",
      "predicted=173.352624, expected=172.440000\n",
      "predicted=171.935290, expected=174.140000\n",
      "predicted=174.515939, expected=174.730000\n",
      "predicted=174.872938, expected=175.820000\n",
      "predicted=175.735925, expected=178.240000\n",
      "predicted=178.446057, expected=177.840000\n",
      "predicted=177.739934, expected=172.800000\n",
      "predicted=172.772688, expected=165.720000\n",
      "predicted=165.928945, expected=165.240000\n",
      "predicted=165.721087, expected=162.940000\n",
      "predicted=162.705557, expected=163.650000\n",
      "predicted=163.643046, expected=164.220000\n",
      "predicted=164.506051, expected=162.320000\n",
      "predicted=162.138316, expected=165.260000\n",
      "predicted=165.659933, expected=169.100000\n",
      "predicted=169.187200, expected=176.570000\n",
      "predicted=176.683056, expected=176.890000\n",
      "predicted=176.749048, expected=183.830000\n",
      "predicted=184.391564, expected=185.160000\n",
      "predicted=185.413516, expected=186.050000\n",
      "predicted=185.882514, expected=187.360000\n",
      "predicted=187.938751, expected=190.040000\n",
      "predicted=190.125278, expected=188.590000\n",
      "predicted=188.514476, expected=188.150000\n",
      "predicted=188.321512, expected=186.440000\n",
      "predicted=186.581125, expected=188.180000\n",
      "predicted=188.229877, expected=186.990000\n",
      "predicted=186.968019, expected=186.310000\n",
      "predicted=186.280930, expected=187.630000\n",
      "predicted=187.995149, expected=187.160000\n",
      "predicted=187.027071, expected=188.360000\n",
      "predicted=188.516556, expected=188.150000\n",
      "predicted=188.295972, expected=188.580000\n",
      "predicted=188.615909, expected=188.580000\n",
      "predicted=188.748638, expected=187.900000\n",
      "predicted=187.889257, expected=187.500000\n",
      "predicted=187.619084, expected=186.870000\n",
      "Test RMSE: 2.145\n"
     ]
    },
    {
     "data": {
      "image/png": "[encoded data removed]",
      "text/plain": [
       "<Figure size 432x288 with 1 Axes>"
      ]
     },
     "metadata": {
      "needs_background": "light"
     },
     "output_type": "display_data"
    }
   ],
   "source": [
    "from math import sqrt\n",
    "from sklearn.metrics import mean_squared_error\n",
    "X = data\n",
    "size = int(len(X) * 0.66)\n",
    "train, test = X[0:size], X[size:len(X)]\n",
    "history = [x for x in train]\n",
    "predictions = list()\n",
    "# walk-forward validation\n",
    "for t in range(len(test)):\n",
    "\tmodel = ARIMA(history, order=(5,1,0))\n",
    "\tmodel_fit = model.fit()\n",
    "\toutput = model_fit.forecast()\n",
    "\tyhat = output[0]\n",
    "\tpredictions.append(yhat)\n",
    "\tobs = test[t]\n",
    "\thistory.append(obs)\n",
    "\tprint('predicted=%f, expected=%f' % (yhat, obs))\n",
    "# evaluate forecasts\n",
    "rmse = sqrt(mean_squared_error(test, predictions))\n",
    "print('Test RMSE: %.3f' % rmse)\n",
    "# plot forecasts against actual outcomes\n",
    "pyplot.plot(test)\n",
    "\n",
    "pyplot.plot(predictions, color='red')\n",
    "pyplot.show()"
   ]
  },
  {
   "cell_type": "code",
   "execution_count": null,
   "metadata": {
    "colab": {
     "base_uri": "https://localhost:8080/",
     "height": 537
    },
    "id": "m5usTF_wcDLd",
    "outputId": "4cfbe7a1-fe21-4d38-9d36-b5dcbcd9b91d"
   },
   "outputs": [
    {
     "name": "stdout",
     "output_type": "stream",
     "text": [
      "predicted=190.106288, expected=188.590000\n",
      "predicted=188.318561, expected=188.150000\n",
      "predicted=188.105829, expected=186.440000\n",
      "predicted=186.356454, expected=188.180000\n",
      "predicted=188.028814, expected=186.990000\n",
      "predicted=186.666708, expected=186.310000\n",
      "predicted=186.038970, expected=187.630000\n",
      "predicted=187.748861, expected=187.160000\n",
      "predicted=186.885872, expected=188.360000\n",
      "predicted=188.310233, expected=188.150000\n",
      "predicted=188.128441, expected=188.580000\n",
      "predicted=188.502120, expected=188.580000\n",
      "predicted=188.591922, expected=187.900000\n",
      "predicted=187.778407, expected=187.500000\n",
      "predicted=187.473149, expected=186.870000\n",
      "Test RMSE: 1.028\n"
     ]
    },
    {
     "data": {
      "image/png": "[encoded data removed]",
      "text/plain": [
       "<Figure size 432x288 with 1 Axes>"
      ]
     },
     "metadata": {
      "needs_background": "light"
     },
     "output_type": "display_data"
    }
   ],
   "source": [
    "from math import sqrt\n",
    "from sklearn.metrics import mean_squared_error\n",
    "X = data\n",
    "size = 876\n",
    "train, test = X[0:size], X[size:len(X)]\n",
    "history = [x for x in train]\n",
    "predictions = list()\n",
    "# walk-forward validation\n",
    "for t in range(len(test)):\n",
    "\tmodel = ARIMA(history, order=(5,1,1))\n",
    "\tmodel_fit = model.fit()\n",
    "\toutput = model_fit.forecast()\n",
    "\tyhat = output[0]\n",
    "\tpredictions.append(yhat)\n",
    "\tobs = test[t]\n",
    "\thistory.append(obs)\n",
    "\tprint('predicted=%f, expected=%f' % (yhat, obs))\n",
    "# evaluate forecasts\n",
    "rmse = sqrt(mean_squared_error(test, predictions))\n",
    "print('Test RMSE: %.3f' % rmse)\n",
    "# plot forecasts against actual outcomes\n",
    "pyplot.plot(test)\n",
    "\n",
    "pyplot.plot(predictions, color='red')\n",
    "pyplot.show()"
   ]
  },
  {
   "cell_type": "markdown",
   "metadata": {
    "id": "yBmlJucHWDFa"
   },
   "source": [
    "# Make results for comparision"
   ]
  },
  {
   "cell_type": "code",
   "execution_count": null,
   "metadata": {
    "colab": {
     "base_uri": "https://localhost:8080/",
     "height": 334
    },
    "id": "Q3Zl8RcLX_R6",
    "outputId": "9b50ec01-220e-46af-9b62-c34646008921"
   },
   "outputs": [
    {
     "data": {
      "image/png": "[encoded data removed]",
      "text/plain": [
       "<Figure size 648x360 with 1 Axes>"
      ]
     },
     "metadata": {
      "needs_background": "light"
     },
     "output_type": "display_data"
    }
   ],
   "source": [
    "plt.figure(figsize=(9, 5))\n",
    "\n",
    "# models \n",
    "Models_used = [\"LSTM Model\", \"RNN Model\", \"CNN Model\",\"BiLSTM Model\",\"Arima Model\"]\n",
    "\n",
    "# metrics of the model in list format\n",
    "rmse_of_models = [0.932,1.558, 1.317 ,0.773,1.028]\n",
    "\n",
    "plt.barh(Models_used, rmse_of_models)\n",
    "plt.xlabel(\"Root mean square error\") \n",
    "for index, value in enumerate(rmse_of_models):\n",
    "    plt.text(value, index,\n",
    "             str(value))\n",
    "  \n",
    "plt.show()"
   ]
  }
 ],
 "metadata": {
  "colab": {
   "collapsed_sections": [
    "5OohuJLwOFP-",
    "JEWQ75jROI4e"
   ],
   "name": "Financial_training_data_set.ipynb",
   "provenance": [],
   "toc_visible": true
  },
  "kernelspec": {
   "display_name": "Python 3",
   "language": "python",
   "name": "python3"
  },
  "language_info": {
   "codemirror_mode": {
    "name": "ipython",
    "version": 3
   },
   "file_extension": ".py",
   "mimetype": "text/x-python",
   "name": "python",
   "nbconvert_exporter": "python",
   "pygments_lexer": "ipython3",
   "version": "3.7.6"
  },
  "toc": {
   "base_numbering": 1,
   "nav_menu": {},
   "number_sections": true,
   "sideBar": true,
   "skip_h1_title": false,
   "title_cell": "Table of Contents",
   "title_sidebar": "Contents",
   "toc_cell": false,
   "toc_position": {},
   "toc_section_display": true,
   "toc_window_display": false
  }
 },
 "nbformat": 4,
 "nbformat_minor": 1
}
